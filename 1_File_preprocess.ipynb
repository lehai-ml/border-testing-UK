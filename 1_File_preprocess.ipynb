{
 "cells": [
  {
   "cell_type": "code",
   "execution_count": 1,
   "id": "4e163768",
   "metadata": {},
   "outputs": [],
   "source": [
    "import requests\n",
    "import pandas as pd\n",
    "import datetime\n",
    "import matplotlib.pyplot as plt\n",
    "import seaborn as sns\n",
    "import numpy as np\n",
    "\n",
    "from bs4 import BeautifulSoup\n",
    "from analyses_code import preprocessing\n",
    "\n",
    "import glob"
   ]
  },
  {
   "cell_type": "markdown",
   "id": "0915166e",
   "metadata": {
    "heading_collapsed": true
   },
   "source": [
    "## Preprocessing UK data"
   ]
  },
  {
   "cell_type": "markdown",
   "id": "4da4d31a",
   "metadata": {
    "hidden": true
   },
   "source": [
    "UK data has:\n",
    "1. Count of border testing between the period of 2021-02-15 to 2021-03-05 from each country to the UK.\n",
    "2. Variants of Concerns sequenced from border testing in that period\n",
    "3. Individual vaccination status and their result"
   ]
  },
  {
   "cell_type": "markdown",
   "id": "9564a098",
   "metadata": {
    "heading_collapsed": true,
    "hidden": true
   },
   "source": [
    "### Count of border testing"
   ]
  },
  {
   "cell_type": "code",
   "execution_count": 40,
   "id": "01dc71ac",
   "metadata": {
    "hidden": true
   },
   "outputs": [],
   "source": [
    "individual_testing = pd.read_csv(\n",
    "    './dataset/UK_BT/2022-03-14_big_table.21_day_window.csv',\n",
    "    usecols=[0, 1, 2, 3, 4])"
   ]
  },
  {
   "cell_type": "code",
   "execution_count": 41,
   "id": "1b99ef39",
   "metadata": {
    "hidden": true
   },
   "outputs": [],
   "source": [
    "# convert to necessary data format\n",
    "individual_testing['first_test_date'] = pd.to_datetime(individual_testing['first_test_date'],format='%Y-%m-%d')\n",
    "# individual_testing['first_test_date'] = pd.to_datetime(individual_testing['first_test_date'],format='%d/%m/%Y')\n",
    "\n",
    "ordered_index = pd.date_range('2021-02','2022-02',freq='MS').strftime('%Y-%b')\n",
    "individual_testing = individual_testing.drop(individual_testing[individual_testing['territory_name'] == '0'].index).reset_index(drop=True) # removed the ones with zero as territory name"
   ]
  },
  {
   "cell_type": "markdown",
   "id": "ad750879",
   "metadata": {
    "hidden": true
   },
   "source": [
    "Summarise this data into total tests count for each day"
   ]
  },
  {
   "cell_type": "code",
   "execution_count": 42,
   "id": "6ed37bfe",
   "metadata": {
    "hidden": true
   },
   "outputs": [
    {
     "data": {
      "text/html": [
       "<div>\n",
       "<style scoped>\n",
       "    .dataframe tbody tr th:only-of-type {\n",
       "        vertical-align: middle;\n",
       "    }\n",
       "\n",
       "    .dataframe tbody tr th {\n",
       "        vertical-align: top;\n",
       "    }\n",
       "\n",
       "    .dataframe thead th {\n",
       "        text-align: right;\n",
       "    }\n",
       "</style>\n",
       "<table border=\"1\" class=\"dataframe\">\n",
       "  <thead>\n",
       "    <tr style=\"text-align: right;\">\n",
       "      <th></th>\n",
       "      <th>negative</th>\n",
       "      <th>positive</th>\n",
       "      <th>total</th>\n",
       "    </tr>\n",
       "    <tr>\n",
       "      <th>first_test_date</th>\n",
       "      <th></th>\n",
       "      <th></th>\n",
       "      <th></th>\n",
       "    </tr>\n",
       "  </thead>\n",
       "  <tbody>\n",
       "    <tr>\n",
       "      <th>2021-02-15</th>\n",
       "      <td>287.0</td>\n",
       "      <td>4.0</td>\n",
       "      <td>291.0</td>\n",
       "    </tr>\n",
       "    <tr>\n",
       "      <th>2021-02-16</th>\n",
       "      <td>1336.0</td>\n",
       "      <td>45.0</td>\n",
       "      <td>1381.0</td>\n",
       "    </tr>\n",
       "    <tr>\n",
       "      <th>2021-02-17</th>\n",
       "      <td>3622.0</td>\n",
       "      <td>148.0</td>\n",
       "      <td>3770.0</td>\n",
       "    </tr>\n",
       "    <tr>\n",
       "      <th>2021-02-18</th>\n",
       "      <td>4297.0</td>\n",
       "      <td>148.0</td>\n",
       "      <td>4445.0</td>\n",
       "    </tr>\n",
       "    <tr>\n",
       "      <th>2021-02-19</th>\n",
       "      <td>5115.0</td>\n",
       "      <td>208.0</td>\n",
       "      <td>5323.0</td>\n",
       "    </tr>\n",
       "    <tr>\n",
       "      <th>...</th>\n",
       "      <td>...</td>\n",
       "      <td>...</td>\n",
       "      <td>...</td>\n",
       "    </tr>\n",
       "    <tr>\n",
       "      <th>2022-03-09</th>\n",
       "      <td>3688.0</td>\n",
       "      <td>119.0</td>\n",
       "      <td>3807.0</td>\n",
       "    </tr>\n",
       "    <tr>\n",
       "      <th>2022-03-10</th>\n",
       "      <td>3751.0</td>\n",
       "      <td>128.0</td>\n",
       "      <td>3879.0</td>\n",
       "    </tr>\n",
       "    <tr>\n",
       "      <th>2022-03-11</th>\n",
       "      <td>2136.0</td>\n",
       "      <td>101.0</td>\n",
       "      <td>2237.0</td>\n",
       "    </tr>\n",
       "    <tr>\n",
       "      <th>2022-03-12</th>\n",
       "      <td>345.0</td>\n",
       "      <td>35.0</td>\n",
       "      <td>380.0</td>\n",
       "    </tr>\n",
       "    <tr>\n",
       "      <th>2022-03-13</th>\n",
       "      <td>1.0</td>\n",
       "      <td>0.0</td>\n",
       "      <td>1.0</td>\n",
       "    </tr>\n",
       "  </tbody>\n",
       "</table>\n",
       "<p>392 rows × 3 columns</p>\n",
       "</div>"
      ],
      "text/plain": [
       "                 negative  positive   total\n",
       "first_test_date                            \n",
       "2021-02-15          287.0       4.0   291.0\n",
       "2021-02-16         1336.0      45.0  1381.0\n",
       "2021-02-17         3622.0     148.0  3770.0\n",
       "2021-02-18         4297.0     148.0  4445.0\n",
       "2021-02-19         5115.0     208.0  5323.0\n",
       "...                   ...       ...     ...\n",
       "2022-03-09         3688.0     119.0  3807.0\n",
       "2022-03-10         3751.0     128.0  3879.0\n",
       "2022-03-11         2136.0     101.0  2237.0\n",
       "2022-03-12          345.0      35.0   380.0\n",
       "2022-03-13            1.0       0.0     1.0\n",
       "\n",
       "[392 rows x 3 columns]"
      ]
     },
     "execution_count": 42,
     "metadata": {},
     "output_type": "execute_result"
    }
   ],
   "source": [
    "UK_border_testing_daily = pd.pivot_table(individual_testing,\n",
    "                                         values=['positive','negative','total'],index=['first_test_date'],aggfunc=sum)\n",
    "UK_border_testing_daily.to_csv('./dataset/preprocessed_data/UK_BT/UK_border_testing_daily.tsv')\n",
    "UK_border_testing_daily"
   ]
  },
  {
   "cell_type": "code",
   "execution_count": 43,
   "id": "bc3d209c",
   "metadata": {
    "hidden": true
   },
   "outputs": [],
   "source": [
    "UK_border_testing_daily = pd.read_csv('./dataset/preprocessed_data/UK_BT/UK_border_testing_daily.tsv',index_col=[0])"
   ]
  },
  {
   "cell_type": "markdown",
   "id": "2565d99e",
   "metadata": {
    "hidden": true
   },
   "source": [
    "Choose a date range, that is similar to the one available in Canada"
   ]
  },
  {
   "cell_type": "code",
   "execution_count": 4,
   "id": "065fa479",
   "metadata": {
    "hidden": true
   },
   "outputs": [],
   "source": [
    "UK_border_testing_daily_1Jul_25Dec = preprocessing.get_date_range(UK_border_testing_daily,'2021-07-01','2021-12-25')\n",
    "# UK_border_testing_daily_1Jul_25Dec.to_csv('./dataset/preprocessed_data/UK_border_testing_daily_1Jul_25Dec.tsv')"
   ]
  },
  {
   "cell_type": "code",
   "execution_count": 22,
   "id": "3a749d62",
   "metadata": {
    "hidden": true,
    "hide_input": false
   },
   "outputs": [],
   "source": [
    "UK_border_testing_daily_21Feb_4Jul = preprocessing.get_date_range(UK_border_testing_daily,'2021-02-21','2021-07-04')\n",
    "UK_border_testing_daily_21Feb_4Jul.to_csv('./dataset/preprocessed_data/UK_BT/UK_border_testing_daily_21Feb_4Jul.tsv')"
   ]
  },
  {
   "cell_type": "code",
   "execution_count": 24,
   "id": "88b7712f",
   "metadata": {
    "hidden": true
   },
   "outputs": [],
   "source": [
    "UK_border_testing_monthly_21Feb_4Jul = UK_border_testing_daily_21Feb_4Jul.groupby(\n",
    "    by=[UK_border_testing_daily_21Feb_4Jul.index.year,UK_border_testing_daily_21Feb_4Jul.index.month]\n",
    ")[['negative','positive','total']].sum()"
   ]
  },
  {
   "cell_type": "code",
   "execution_count": 114,
   "id": "1d610d96",
   "metadata": {
    "hidden": true
   },
   "outputs": [],
   "source": [
    "UK_border_testing_monthly_21Feb_4Jul.to_csv('./dataset/preprocessed_data/UK_BT/UK_border_testing_monthly_21Feb_4Jul.tsv')"
   ]
  },
  {
   "cell_type": "markdown",
   "id": "fedeac53",
   "metadata": {
    "heading_collapsed": true,
    "hidden": true,
    "hide_input": false
   },
   "source": [
    "### Importing the VOC count"
   ]
  },
  {
   "cell_type": "code",
   "execution_count": 31,
   "id": "a097d76d",
   "metadata": {
    "hidden": true
   },
   "outputs": [],
   "source": [
    "UK_VOC_daily = pd.read_csv('./dataset/UK_BT/2022-03-14_individ_sequences_byresultovertime.csv')\n",
    "UK_VOC_daily['Earliest_Specimen_Date'] = pd.to_datetime(UK_VOC_daily['Earliest_Specimen_Date'])\n",
    "UK_VOC_daily.to_csv('./dataset/preprocessed_data/UK_BT/UK_VOC_daily.tsv')\n",
    "UK_VOC_daily['Variant'] = UK_VOC_daily['vam'] # change the name\n",
    "UK_VOC_daily = UK_VOC_daily.drop(columns=['vam'])"
   ]
  },
  {
   "cell_type": "code",
   "execution_count": 32,
   "id": "1236390d",
   "metadata": {
    "hidden": true
   },
   "outputs": [],
   "source": [
    "#get the name of some of the known variants\n",
    "VOC_uk = requests.get('https://www.gov.uk/government/publications/covid-19-variants-genomically-confirmed-case-numbers/variants-distribution-of-cases-data#Variant3').text\n",
    "VOC_uk = BeautifulSoup(VOC_uk,'html.parser')\n",
    "VOC_uk = pd.read_html(VOC_uk.find_all('table')[0].prettify())[0]\n",
    "VOC_uk['Variant'] = [i.replace(' ','') for i in VOC_uk['Variant']]"
   ]
  },
  {
   "cell_type": "code",
   "execution_count": 33,
   "id": "e5ee3637",
   "metadata": {
    "hidden": true
   },
   "outputs": [],
   "source": [
    "UK_VOC_daily_23Feb_24Feb = preprocessing.get_date_range(UK_VOC_daily.set_index('Earliest_Specimen_Date'),\n",
    "                            start = '2021-02-23',end='2022-02-24')\n",
    "UK_VOC_daily_23Feb_24Feb = UK_VOC_daily_23Feb_24Feb.reset_index()"
   ]
  },
  {
   "cell_type": "code",
   "execution_count": 34,
   "id": "788d99da",
   "metadata": {
    "hidden": true
   },
   "outputs": [],
   "source": [
    "UK_VOC_daily_23Feb_24Feb.to_csv(\n",
    "    './dataset/preprocessed_data/UK_BT/UK_VOC_border_testing_23Feb2021_24Feb2022.tsv',\n",
    "    index=False)"
   ]
  },
  {
   "cell_type": "code",
   "execution_count": 35,
   "id": "33d367f5",
   "metadata": {
    "hidden": true
   },
   "outputs": [],
   "source": [
    "individual_seq_Variants = UK_VOC_daily_23Feb_24Feb.pivot_table(\n",
    "    values=['Count'], index=['Variant'], aggfunc=sum).reset_index()\n",
    "individual_seq_Variants = individual_seq_Variants.merge(\n",
    "    VOC_uk[['Variant', 'Lineage']], on='Variant', how='outer')\n",
    "\n",
    "#VOC-21-NOV-01 is the Omicron B.1.1529\n",
    "#VUI-21-OCT-01 is also known as AY.4.2\n",
    "individual_seq_Variants.loc[individual_seq_Variants['Variant'] == 'VOC-21NOV-01','Lineage'] = 'B.1.1529'\n",
    "individual_seq_Variants.loc[individual_seq_Variants['Variant'] == 'VOC-20DEC-01+E484K','Lineage'] = 'B.1.1.7 with E484K'\n",
    "individual_seq_Variants.loc[individual_seq_Variants['Variant'] == 'VOC-21APR-02+K417N','Lineage'] = 'B.1.617.2 with K417N'\n",
    "individual_seq_Variants.loc[individual_seq_Variants['Variant'] == 'VUI-21JUL-01','Lineage'] = 'B.1.621'\n",
    "individual_seq_Variants.loc[individual_seq_Variants['Variant'] == 'VUI-21JUN-01','Lineage'] = 'C.37'\n",
    "individual_seq_Variants.loc[individual_seq_Variants['Variant'] == 'VUI-21MAY-02','Lineage'] = 'C.36.3'\n",
    "individual_seq_Variants.loc[individual_seq_Variants['Variant'] == 'VUI-21OCT-01','Lineage'] = 'AY.4.2'"
   ]
  },
  {
   "cell_type": "code",
   "execution_count": 36,
   "id": "e4bf5a38",
   "metadata": {
    "hidden": true
   },
   "outputs": [],
   "source": [
    "individual_seq_Variants = individual_seq_Variants.set_index('Variant')"
   ]
  },
  {
   "cell_type": "code",
   "execution_count": 37,
   "id": "069428c9",
   "metadata": {
    "hidden": true
   },
   "outputs": [],
   "source": [
    "individual_seq_Variants = pd.DataFrame({\n",
    "        'Variant':['Alpha VOC B.1.1.7','Beta VOC B.1.351','Delta VOC B.1.617.2','Gamma VOC P.1','Omicron B.1.1.529'],\n",
    "        'Count':[individual_seq_Variants.loc[['VOC-20DEC-01',\n",
    "                                'VOC-20DEC-01+E484K'],'Count'].sum(),\n",
    "                individual_seq_Variants.loc['VOC-20DEC-02','Count'].sum(),\n",
    "                individual_seq_Variants.loc[['VOC-21APR-02',\n",
    "                                'VOC-21APR-02+E484K',\n",
    "                                'VOC-21APR-02+K417N'],'Count'].sum(),\n",
    "                individual_seq_Variants.loc['VOC-21JAN-02','Count'],\n",
    "                individual_seq_Variants.loc['VOC-21NOV-01','Count']]\n",
    "    })"
   ]
  },
  {
   "cell_type": "code",
   "execution_count": 38,
   "id": "24f8e52e",
   "metadata": {
    "hidden": true
   },
   "outputs": [
    {
     "data": {
      "text/html": [
       "<div>\n",
       "<style scoped>\n",
       "    .dataframe tbody tr th:only-of-type {\n",
       "        vertical-align: middle;\n",
       "    }\n",
       "\n",
       "    .dataframe tbody tr th {\n",
       "        vertical-align: top;\n",
       "    }\n",
       "\n",
       "    .dataframe thead th {\n",
       "        text-align: right;\n",
       "    }\n",
       "</style>\n",
       "<table border=\"1\" class=\"dataframe\">\n",
       "  <thead>\n",
       "    <tr style=\"text-align: right;\">\n",
       "      <th></th>\n",
       "      <th>Variant</th>\n",
       "      <th>Count</th>\n",
       "    </tr>\n",
       "  </thead>\n",
       "  <tbody>\n",
       "    <tr>\n",
       "      <th>0</th>\n",
       "      <td>Alpha VOC B.1.1.7</td>\n",
       "      <td>4754.0</td>\n",
       "    </tr>\n",
       "    <tr>\n",
       "      <th>1</th>\n",
       "      <td>Beta VOC B.1.351</td>\n",
       "      <td>274.0</td>\n",
       "    </tr>\n",
       "    <tr>\n",
       "      <th>2</th>\n",
       "      <td>Delta VOC B.1.617.2</td>\n",
       "      <td>23484.0</td>\n",
       "    </tr>\n",
       "    <tr>\n",
       "      <th>3</th>\n",
       "      <td>Gamma VOC P.1</td>\n",
       "      <td>66.0</td>\n",
       "    </tr>\n",
       "    <tr>\n",
       "      <th>4</th>\n",
       "      <td>Omicron B.1.1.529</td>\n",
       "      <td>33183.0</td>\n",
       "    </tr>\n",
       "  </tbody>\n",
       "</table>\n",
       "</div>"
      ],
      "text/plain": [
       "               Variant    Count\n",
       "0    Alpha VOC B.1.1.7   4754.0\n",
       "1     Beta VOC B.1.351    274.0\n",
       "2  Delta VOC B.1.617.2  23484.0\n",
       "3        Gamma VOC P.1     66.0\n",
       "4    Omicron B.1.1.529  33183.0"
      ]
     },
     "execution_count": 38,
     "metadata": {},
     "output_type": "execute_result"
    }
   ],
   "source": [
    "individual_seq_Variants"
   ]
  },
  {
   "cell_type": "code",
   "execution_count": 39,
   "id": "0f50699c",
   "metadata": {
    "hidden": true
   },
   "outputs": [],
   "source": [
    "individual_seq_Variants.to_csv('./dataset/preprocessed_data/UK_BT/UK_VOC_border_testing_23Feb2021_24Feb2022.tsv',index=False)"
   ]
  },
  {
   "cell_type": "markdown",
   "id": "b7c6046d",
   "metadata": {
    "heading_collapsed": true,
    "hidden": true
   },
   "source": [
    "### Vaccination status"
   ]
  },
  {
   "cell_type": "code",
   "execution_count": 11,
   "id": "06459c13",
   "metadata": {
    "hidden": true
   },
   "outputs": [],
   "source": [
    "UK_individual_vaxx = pd.read_csv('./dataset/UK_BT/2022-02-28_big_table.by_vaccination_status.csv')"
   ]
  },
  {
   "cell_type": "code",
   "execution_count": 17,
   "id": "eca3851c",
   "metadata": {
    "hidden": true
   },
   "outputs": [
    {
     "data": {
      "text/html": [
       "<div>\n",
       "<style scoped>\n",
       "    .dataframe tbody tr th:only-of-type {\n",
       "        vertical-align: middle;\n",
       "    }\n",
       "\n",
       "    .dataframe tbody tr th {\n",
       "        vertical-align: top;\n",
       "    }\n",
       "\n",
       "    .dataframe thead th {\n",
       "        text-align: right;\n",
       "    }\n",
       "</style>\n",
       "<table border=\"1\" class=\"dataframe\">\n",
       "  <thead>\n",
       "    <tr style=\"text-align: right;\">\n",
       "      <th></th>\n",
       "      <th></th>\n",
       "      <th>positive</th>\n",
       "      <th>total</th>\n",
       "    </tr>\n",
       "    <tr>\n",
       "      <th>first_test_date</th>\n",
       "      <th>vacc_status_clean</th>\n",
       "      <th></th>\n",
       "      <th></th>\n",
       "    </tr>\n",
       "  </thead>\n",
       "  <tbody>\n",
       "    <tr>\n",
       "      <th rowspan=\"4\" valign=\"top\">2021-02-15</th>\n",
       "      <th>full</th>\n",
       "      <td>0</td>\n",
       "      <td>4</td>\n",
       "    </tr>\n",
       "    <tr>\n",
       "      <th>no</th>\n",
       "      <td>0</td>\n",
       "      <td>57</td>\n",
       "    </tr>\n",
       "    <tr>\n",
       "      <th>part</th>\n",
       "      <td>0</td>\n",
       "      <td>1</td>\n",
       "    </tr>\n",
       "    <tr>\n",
       "      <th>vaccinated_unknown_doses</th>\n",
       "      <td>0</td>\n",
       "      <td>76</td>\n",
       "    </tr>\n",
       "    <tr>\n",
       "      <th>2021-02-16</th>\n",
       "      <th>full</th>\n",
       "      <td>5</td>\n",
       "      <td>55</td>\n",
       "    </tr>\n",
       "    <tr>\n",
       "      <th>...</th>\n",
       "      <th>...</th>\n",
       "      <td>...</td>\n",
       "      <td>...</td>\n",
       "    </tr>\n",
       "    <tr>\n",
       "      <th rowspan=\"4\" valign=\"top\">2022-02-26</th>\n",
       "      <th>full</th>\n",
       "      <td>11</td>\n",
       "      <td>52</td>\n",
       "    </tr>\n",
       "    <tr>\n",
       "      <th>no</th>\n",
       "      <td>2</td>\n",
       "      <td>181</td>\n",
       "    </tr>\n",
       "    <tr>\n",
       "      <th>part</th>\n",
       "      <td>0</td>\n",
       "      <td>2</td>\n",
       "    </tr>\n",
       "    <tr>\n",
       "      <th>vaccinated_unknown_doses</th>\n",
       "      <td>0</td>\n",
       "      <td>86</td>\n",
       "    </tr>\n",
       "    <tr>\n",
       "      <th>2022-02-27</th>\n",
       "      <th>full</th>\n",
       "      <td>1</td>\n",
       "      <td>1</td>\n",
       "    </tr>\n",
       "  </tbody>\n",
       "</table>\n",
       "<p>1509 rows × 2 columns</p>\n",
       "</div>"
      ],
      "text/plain": [
       "                                          positive  total\n",
       "first_test_date vacc_status_clean                        \n",
       "2021-02-15      full                             0      4\n",
       "                no                               0     57\n",
       "                part                             0      1\n",
       "                vaccinated_unknown_doses         0     76\n",
       "2021-02-16      full                             5     55\n",
       "...                                            ...    ...\n",
       "2022-02-26      full                            11     52\n",
       "                no                               2    181\n",
       "                part                             0      2\n",
       "                vaccinated_unknown_doses         0     86\n",
       "2022-02-27      full                             1      1\n",
       "\n",
       "[1509 rows x 2 columns]"
      ]
     },
     "execution_count": 17,
     "metadata": {},
     "output_type": "execute_result"
    }
   ],
   "source": [
    "UK_individual_vaxx.groupby(['first_test_date','vacc_status_clean']).sum()"
   ]
  },
  {
   "cell_type": "markdown",
   "id": "81e8e527",
   "metadata": {
    "heading_collapsed": true
   },
   "source": [
    "## Canada data"
   ]
  },
  {
   "cell_type": "markdown",
   "id": "f3990b1e",
   "metadata": {
    "hidden": true
   },
   "source": [
    "[Canada data](https://www.canada.ca/en/public-health/services/diseases/coronavirus-disease-covid-19/testing-screening-contact-tracing/summary-data-travellers.html#a3) has:\n",
    "1. Border testing results from Feb 21 to July 4, 2021\n",
    "2. Border testing results for partially/ unvaccinated travellers and vaccinated travellers\n",
    "3. VOC counts between 23 Feb - Feb 24, 2022\n",
    "4. Information about the travellers"
   ]
  },
  {
   "cell_type": "code",
   "execution_count": 2,
   "id": "fb02cd51",
   "metadata": {
    "hidden": true
   },
   "outputs": [],
   "source": [
    "html_content = requests.get(\n",
    "    'https://www.canada.ca/en/public-health/services/diseases/coronavirus-disease-covid-19/testing-screening-contact-tracing/summary-data-travellers.html#a3'\n",
    ").text"
   ]
  },
  {
   "cell_type": "code",
   "execution_count": 3,
   "id": "3ea5a635",
   "metadata": {
    "hidden": true
   },
   "outputs": [],
   "source": [
    "canada_soup = BeautifulSoup(html_content,'html.parser')\n",
    "canada_tables = canada_soup.find_all('table')"
   ]
  },
  {
   "cell_type": "markdown",
   "id": "1d0018f1",
   "metadata": {
    "hidden": true
   },
   "source": [
    "### Border testing results from Feb 21 to July 4 2021"
   ]
  },
  {
   "cell_type": "code",
   "execution_count": 4,
   "id": "318e84a5",
   "metadata": {
    "code_folding": [],
    "hidden": true
   },
   "outputs": [],
   "source": [
    "def Canada_border_testing(df):\n",
    "    \"\"\"\n",
    "    df = dataFrame from Canada websit.\n",
    "    with pd.MultiIndex in the columns (axis=1)\n",
    "    and Air and Land and Overall pecent positive, will also calculate from the percentage the actual number\n",
    "    \n",
    "    \"\"\"\n",
    "    border_testing_positivity = df.copy()\n",
    "    border_testing_positivity.columns = pd.MultiIndex.from_tuples([('Date','')]+border_testing_positivity.columns.to_list()[1:5]+[('Total','Percent positive')])\n",
    "    border_testing_positivity[('Air','Tests completed')] = border_testing_positivity[('Air','Tests completed')].astype('int64')\n",
    "    border_testing_positivity[('Land', 'Total tests completed')] = border_testing_positivity[('Land', 'Total tests completed')].astype('int64')\n",
    "    \n",
    "    border_testing_positivity[('Air','Percent positive')] = list(map(lambda x: float(x.replace('%','')),border_testing_positivity[('Air','Percent positive')]))\n",
    "    border_testing_positivity[('Land','Percent positive')] = list(map(lambda x: float(x.replace('%','')),border_testing_positivity[('Land','Percent positive')]))\n",
    "    border_testing_positivity[('Total', 'Percent positive')] = list(map(lambda x: float(x.replace('%','')),border_testing_positivity[('Total', 'Percent positive')]))\n",
    "    \n",
    "    border_testing_positivity[('Total','Total tests completed')] = border_testing_positivity[('Air','Tests completed')] + border_testing_positivity[('Land','Total tests completed')]\n",
    "    \n",
    "    border_testing_positivity[('Total','Test positive')] = border_testing_positivity[('Total', 'Percent positive')] * border_testing_positivity[('Total','Total tests completed')] / 100\n",
    "    border_testing_positivity[('Total','Test positive')] = border_testing_positivity[('Total','Test positive')].round()\n",
    "    \n",
    "    border_testing_positivity = border_testing_positivity.set_index([('Date')])\n",
    "    \n",
    "    return border_testing_positivity"
   ]
  },
  {
   "cell_type": "code",
   "execution_count": 7,
   "id": "6fdf02d9",
   "metadata": {
    "hidden": true
   },
   "outputs": [],
   "source": [
    "border_testing_positivity = pd.read_html(canada_tables[1].prettify())[0]\n",
    "border_testing_positivity = border_testing_positivity.drop([6,7])\n",
    "\n",
    "border_testing_positivity = Canada_border_testing(border_testing_positivity)\n",
    "border_testing_positivity.index = [i.replace(u'\\xa0',u'') for i in border_testing_positivity.index.tolist()]\n",
    "border_testing_positivity.index.name = 'Date'\n",
    "border_testing_positivity.to_csv('./dataset/preprocessed_data/Canada_BT/Canada_border_testing.tsv',sep='\\t')"
   ]
  },
  {
   "cell_type": "code",
   "execution_count": 9,
   "id": "0cbf5880",
   "metadata": {
    "hidden": true
   },
   "outputs": [],
   "source": [
    "border_testing_positivity = pd.read_csv('./dataset/preprocessed_data/Canada_BT/Canada_border_testing.tsv',sep='\\t', header=[0,1],index_col=[0],encoding='latin-1')"
   ]
  },
  {
   "cell_type": "markdown",
   "id": "e239e07f",
   "metadata": {
    "heading_collapsed": true,
    "hidden": true
   },
   "source": [
    "### VOC count Feb23- Feb24,2022"
   ]
  },
  {
   "cell_type": "code",
   "execution_count": 20,
   "id": "520f0c1f",
   "metadata": {
    "hidden": true
   },
   "outputs": [],
   "source": [
    "sequencing_result = pd.read_html(canada_tables[4].prettify())[0]"
   ]
  },
  {
   "cell_type": "code",
   "execution_count": 21,
   "id": "9f8b3377",
   "metadata": {
    "hidden": true
   },
   "outputs": [
    {
     "data": {
      "text/html": [
       "<div>\n",
       "<style scoped>\n",
       "    .dataframe tbody tr th:only-of-type {\n",
       "        vertical-align: middle;\n",
       "    }\n",
       "\n",
       "    .dataframe tbody tr th {\n",
       "        vertical-align: top;\n",
       "    }\n",
       "\n",
       "    .dataframe thead th {\n",
       "        text-align: right;\n",
       "    }\n",
       "</style>\n",
       "<table border=\"1\" class=\"dataframe\">\n",
       "  <thead>\n",
       "    <tr style=\"text-align: right;\">\n",
       "      <th></th>\n",
       "      <th>Mode</th>\n",
       "      <th>Variant of Concern (VOC) Total</th>\n",
       "      <th>Alpha VOC B.1.1.7</th>\n",
       "      <th>Beta VOC B.1.351</th>\n",
       "      <th>Delta VOC B.1.617.2</th>\n",
       "      <th>Gamma VOC P.1</th>\n",
       "      <th>Omicron B.1.1.529</th>\n",
       "      <th>Variants of Interest  (VOI) Total</th>\n",
       "    </tr>\n",
       "  </thead>\n",
       "  <tbody>\n",
       "    <tr>\n",
       "      <th>0</th>\n",
       "      <td>Border total</td>\n",
       "      <td>16993</td>\n",
       "      <td>2130</td>\n",
       "      <td>107</td>\n",
       "      <td>4318</td>\n",
       "      <td>149</td>\n",
       "      <td>10289</td>\n",
       "      <td>248</td>\n",
       "    </tr>\n",
       "    <tr>\n",
       "      <th>1</th>\n",
       "      <td>Land total</td>\n",
       "      <td>2916</td>\n",
       "      <td>370</td>\n",
       "      <td>19</td>\n",
       "      <td>721</td>\n",
       "      <td>45</td>\n",
       "      <td>1761</td>\n",
       "      <td>60</td>\n",
       "    </tr>\n",
       "    <tr>\n",
       "      <th>2</th>\n",
       "      <td>Air total</td>\n",
       "      <td>14077</td>\n",
       "      <td>1760</td>\n",
       "      <td>88</td>\n",
       "      <td>3597</td>\n",
       "      <td>104</td>\n",
       "      <td>8528</td>\n",
       "      <td>188</td>\n",
       "    </tr>\n",
       "  </tbody>\n",
       "</table>\n",
       "</div>"
      ],
      "text/plain": [
       "           Mode  Variant of Concern (VOC) Total  Alpha VOC B.1.1.7  \\\n",
       "0  Border total                           16993               2130   \n",
       "1    Land total                            2916                370   \n",
       "2     Air total                           14077               1760   \n",
       "\n",
       "   Beta VOC B.1.351  Delta VOC B.1.617.2  Gamma VOC P.1  Omicron B.1.1.529  \\\n",
       "0               107                 4318            149              10289   \n",
       "1                19                  721             45               1761   \n",
       "2                88                 3597            104               8528   \n",
       "\n",
       "   Variants of Interest  (VOI) Total  \n",
       "0                                248  \n",
       "1                                 60  \n",
       "2                                188  "
      ]
     },
     "execution_count": 21,
     "metadata": {},
     "output_type": "execute_result"
    }
   ],
   "source": [
    "sequencing_result"
   ]
  },
  {
   "cell_type": "code",
   "execution_count": 22,
   "id": "7b9e3c82",
   "metadata": {
    "hidden": true
   },
   "outputs": [],
   "source": [
    "sequencing_result.to_csv('./dataset/preprocessed_data/Canada_BT/Canada_VOC_border_Testing.tsv')"
   ]
  },
  {
   "cell_type": "markdown",
   "id": "8092c3b8",
   "metadata": {
    "heading_collapsed": true,
    "hidden": true
   },
   "source": [
    "### Traveller infomration (volume and citizenship)"
   ]
  },
  {
   "cell_type": "code",
   "execution_count": 22,
   "id": "fd165fa5",
   "metadata": {
    "hidden": true
   },
   "outputs": [],
   "source": [
    "border_testing_weekly_air_volumes_by_nationalities = pd.read_html(canada_tables[7].prettify())[0]"
   ]
  },
  {
   "cell_type": "code",
   "execution_count": 23,
   "id": "facb911b",
   "metadata": {
    "hidden": true
   },
   "outputs": [],
   "source": [
    "border_testing_cumulative_volumes = pd.read_html(canada_tables[5].prettify())[0]"
   ]
  },
  {
   "cell_type": "code",
   "execution_count": 25,
   "id": "066180af",
   "metadata": {
    "hidden": true
   },
   "outputs": [
    {
     "data": {
      "text/html": [
       "<div>\n",
       "<style scoped>\n",
       "    .dataframe tbody tr th:only-of-type {\n",
       "        vertical-align: middle;\n",
       "    }\n",
       "\n",
       "    .dataframe tbody tr th {\n",
       "        vertical-align: top;\n",
       "    }\n",
       "\n",
       "    .dataframe thead th {\n",
       "        text-align: right;\n",
       "    }\n",
       "</style>\n",
       "<table border=\"1\" class=\"dataframe\">\n",
       "  <thead>\n",
       "    <tr style=\"text-align: right;\">\n",
       "      <th></th>\n",
       "      <th>Mode</th>\n",
       "      <th>Cumulative total  March 21, 2020 –  February 6, 2022</th>\n",
       "      <th>Total traveller volume  January 1 -  February 6, 2022</th>\n",
       "      <th>Total traveller volume  2021</th>\n",
       "      <th>Total traveller volume  2020</th>\n",
       "      <th>Total traveller volume  2019</th>\n",
       "    </tr>\n",
       "  </thead>\n",
       "  <tbody>\n",
       "    <tr>\n",
       "      <th>0</th>\n",
       "      <td>Land</td>\n",
       "      <td>20324989</td>\n",
       "      <td>1223032</td>\n",
       "      <td>12335310</td>\n",
       "      <td>15906967</td>\n",
       "      <td>57380632</td>\n",
       "    </tr>\n",
       "    <tr>\n",
       "      <th>1</th>\n",
       "      <td>Air</td>\n",
       "      <td>9449965</td>\n",
       "      <td>1236651</td>\n",
       "      <td>6469230</td>\n",
       "      <td>9685737</td>\n",
       "      <td>36590236</td>\n",
       "    </tr>\n",
       "    <tr>\n",
       "      <th>2</th>\n",
       "      <td>Overall total travellers</td>\n",
       "      <td>29774954</td>\n",
       "      <td>2459683</td>\n",
       "      <td>18804540</td>\n",
       "      <td>25592704</td>\n",
       "      <td>93970868</td>\n",
       "    </tr>\n",
       "  </tbody>\n",
       "</table>\n",
       "</div>"
      ],
      "text/plain": [
       "                       Mode  \\\n",
       "0                      Land   \n",
       "1                       Air   \n",
       "2  Overall total travellers   \n",
       "\n",
       "   Cumulative total  March 21, 2020 –  February 6, 2022  \\\n",
       "0                                           20324989      \n",
       "1                                            9449965      \n",
       "2                                           29774954      \n",
       "\n",
       "   Total traveller volume  January 1 -  February 6, 2022  \\\n",
       "0                                            1223032       \n",
       "1                                            1236651       \n",
       "2                                            2459683       \n",
       "\n",
       "   Total traveller volume  2021  Total traveller volume  2020  \\\n",
       "0                      12335310                      15906967   \n",
       "1                       6469230                       9685737   \n",
       "2                      18804540                      25592704   \n",
       "\n",
       "   Total traveller volume  2019  \n",
       "0                      57380632  \n",
       "1                      36590236  \n",
       "2                      93970868  "
      ]
     },
     "execution_count": 25,
     "metadata": {},
     "output_type": "execute_result"
    }
   ],
   "source": [
    "border_testing_cumulative_volumes"
   ]
  },
  {
   "cell_type": "code",
   "execution_count": null,
   "id": "adf502e5",
   "metadata": {
    "hidden": true
   },
   "outputs": [],
   "source": []
  },
  {
   "cell_type": "code",
   "execution_count": 263,
   "id": "beca69e8",
   "metadata": {
    "hidden": true
   },
   "outputs": [],
   "source": [
    "border_testing_weekly_air_volumes = pd.read_html(canada_tables[6].prettify())[0]"
   ]
  },
  {
   "cell_type": "code",
   "execution_count": 269,
   "id": "ed2a9008",
   "metadata": {
    "hidden": true
   },
   "outputs": [],
   "source": [
    "border_testing_weekly_land_volumes = pd.read_html(canada_tables[8].prettify())[0]"
   ]
  },
  {
   "cell_type": "code",
   "execution_count": 26,
   "id": "502b0c42",
   "metadata": {
    "hidden": true
   },
   "outputs": [
    {
     "data": {
      "text/html": [
       "<div>\n",
       "<style scoped>\n",
       "    .dataframe tbody tr th:only-of-type {\n",
       "        vertical-align: middle;\n",
       "    }\n",
       "\n",
       "    .dataframe tbody tr th {\n",
       "        vertical-align: top;\n",
       "    }\n",
       "\n",
       "    .dataframe thead tr th {\n",
       "        text-align: left;\n",
       "    }\n",
       "</style>\n",
       "<table border=\"1\" class=\"dataframe\">\n",
       "  <thead>\n",
       "    <tr>\n",
       "      <th></th>\n",
       "      <th>Date  Footnote  1</th>\n",
       "      <th colspan=\"4\" halign=\"left\">Canadian citizens  Footnote  2</th>\n",
       "      <th colspan=\"4\" halign=\"left\">Other foreign nationals</th>\n",
       "    </tr>\n",
       "    <tr>\n",
       "      <th></th>\n",
       "      <th>Date  Footnote  1</th>\n",
       "      <th>2022</th>\n",
       "      <th>2021</th>\n",
       "      <th>2020</th>\n",
       "      <th>2019</th>\n",
       "      <th>2022</th>\n",
       "      <th>2021</th>\n",
       "      <th>2020</th>\n",
       "      <th>2019</th>\n",
       "    </tr>\n",
       "  </thead>\n",
       "  <tbody>\n",
       "    <tr>\n",
       "      <th>0</th>\n",
       "      <td>January 31 - February 6, 2022</td>\n",
       "      <td>139481</td>\n",
       "      <td>35159</td>\n",
       "      <td>495238</td>\n",
       "      <td>480270</td>\n",
       "      <td>58488</td>\n",
       "      <td>19674</td>\n",
       "      <td>150940</td>\n",
       "      <td>166538</td>\n",
       "    </tr>\n",
       "    <tr>\n",
       "      <th>1</th>\n",
       "      <td>January 24-30, 2022</td>\n",
       "      <td>139143</td>\n",
       "      <td>35421</td>\n",
       "      <td>503938</td>\n",
       "      <td>486947</td>\n",
       "      <td>57305</td>\n",
       "      <td>17245</td>\n",
       "      <td>155407</td>\n",
       "      <td>169035</td>\n",
       "    </tr>\n",
       "    <tr>\n",
       "      <th>2</th>\n",
       "      <td>January 17-23, 2022</td>\n",
       "      <td>142544</td>\n",
       "      <td>34966</td>\n",
       "      <td>472743</td>\n",
       "      <td>469773</td>\n",
       "      <td>58154</td>\n",
       "      <td>18566</td>\n",
       "      <td>170805</td>\n",
       "      <td>162219</td>\n",
       "    </tr>\n",
       "    <tr>\n",
       "      <th>3</th>\n",
       "      <td>January 10-16, 2022</td>\n",
       "      <td>174415</td>\n",
       "      <td>43161</td>\n",
       "      <td>489288</td>\n",
       "      <td>472565</td>\n",
       "      <td>67794</td>\n",
       "      <td>23197</td>\n",
       "      <td>181703</td>\n",
       "      <td>177504</td>\n",
       "    </tr>\n",
       "    <tr>\n",
       "      <th>4</th>\n",
       "      <td>January 3-9, 2022</td>\n",
       "      <td>216752</td>\n",
       "      <td>61790</td>\n",
       "      <td>539965</td>\n",
       "      <td>526782</td>\n",
       "      <td>72189</td>\n",
       "      <td>28937</td>\n",
       "      <td>189356</td>\n",
       "      <td>183923</td>\n",
       "    </tr>\n",
       "    <tr>\n",
       "      <th>5</th>\n",
       "      <td>December 27, 2021 – January 2, 2022</td>\n",
       "      <td>NaN</td>\n",
       "      <td>215665</td>\n",
       "      <td>56046</td>\n",
       "      <td>590261</td>\n",
       "      <td>NaN</td>\n",
       "      <td>83824</td>\n",
       "      <td>22669</td>\n",
       "      <td>193727</td>\n",
       "    </tr>\n",
       "    <tr>\n",
       "      <th>6</th>\n",
       "      <td>December 20-26, 2021</td>\n",
       "      <td>NaN</td>\n",
       "      <td>189961</td>\n",
       "      <td>37301</td>\n",
       "      <td>417490</td>\n",
       "      <td>NaN</td>\n",
       "      <td>125526</td>\n",
       "      <td>18823</td>\n",
       "      <td>267727</td>\n",
       "    </tr>\n",
       "    <tr>\n",
       "      <th>7</th>\n",
       "      <td>December 13-19, 2021</td>\n",
       "      <td>NaN</td>\n",
       "      <td>218021</td>\n",
       "      <td>38278</td>\n",
       "      <td>431390</td>\n",
       "      <td>NaN</td>\n",
       "      <td>113667</td>\n",
       "      <td>20089</td>\n",
       "      <td>245639</td>\n",
       "    </tr>\n",
       "    <tr>\n",
       "      <th>8</th>\n",
       "      <td>December 6-12, 2021</td>\n",
       "      <td>NaN</td>\n",
       "      <td>204453</td>\n",
       "      <td>38960</td>\n",
       "      <td>433800</td>\n",
       "      <td>NaN</td>\n",
       "      <td>81193</td>\n",
       "      <td>17987</td>\n",
       "      <td>175905</td>\n",
       "    </tr>\n",
       "    <tr>\n",
       "      <th>9</th>\n",
       "      <td>November 29 – December 5, 2021</td>\n",
       "      <td>NaN</td>\n",
       "      <td>201344</td>\n",
       "      <td>40112</td>\n",
       "      <td>420747</td>\n",
       "      <td>NaN</td>\n",
       "      <td>73641</td>\n",
       "      <td>17877</td>\n",
       "      <td>165255</td>\n",
       "    </tr>\n",
       "    <tr>\n",
       "      <th>10</th>\n",
       "      <td>November 22-28, 2021</td>\n",
       "      <td>NaN</td>\n",
       "      <td>182637</td>\n",
       "      <td>31474</td>\n",
       "      <td>407199</td>\n",
       "      <td>NaN</td>\n",
       "      <td>68200</td>\n",
       "      <td>13884</td>\n",
       "      <td>155087</td>\n",
       "    </tr>\n",
       "    <tr>\n",
       "      <th>11</th>\n",
       "      <td>November 15-21, 2021</td>\n",
       "      <td>NaN</td>\n",
       "      <td>190192</td>\n",
       "      <td>30367</td>\n",
       "      <td>442827</td>\n",
       "      <td>NaN</td>\n",
       "      <td>72389</td>\n",
       "      <td>13828</td>\n",
       "      <td>160494</td>\n",
       "    </tr>\n",
       "    <tr>\n",
       "      <th>12</th>\n",
       "      <td>November 8-14, 2021</td>\n",
       "      <td>NaN</td>\n",
       "      <td>168457</td>\n",
       "      <td>27442</td>\n",
       "      <td>447174</td>\n",
       "      <td>NaN</td>\n",
       "      <td>68362</td>\n",
       "      <td>12935</td>\n",
       "      <td>160960</td>\n",
       "    </tr>\n",
       "    <tr>\n",
       "      <th>13</th>\n",
       "      <td>November 1-7, 2021</td>\n",
       "      <td>NaN</td>\n",
       "      <td>136723</td>\n",
       "      <td>27504</td>\n",
       "      <td>384256</td>\n",
       "      <td>NaN</td>\n",
       "      <td>68571</td>\n",
       "      <td>14151</td>\n",
       "      <td>168713</td>\n",
       "    </tr>\n",
       "    <tr>\n",
       "      <th>14</th>\n",
       "      <td>October 25-31, 2021</td>\n",
       "      <td>NaN</td>\n",
       "      <td>142549</td>\n",
       "      <td>26945</td>\n",
       "      <td>354995</td>\n",
       "      <td>NaN</td>\n",
       "      <td>70310</td>\n",
       "      <td>13424</td>\n",
       "      <td>166531</td>\n",
       "    </tr>\n",
       "    <tr>\n",
       "      <th>15</th>\n",
       "      <td>October 18-24, 2021</td>\n",
       "      <td>NaN</td>\n",
       "      <td>128740</td>\n",
       "      <td>25191</td>\n",
       "      <td>386415</td>\n",
       "      <td>NaN</td>\n",
       "      <td>76012</td>\n",
       "      <td>12167</td>\n",
       "      <td>203898</td>\n",
       "    </tr>\n",
       "    <tr>\n",
       "      <th>16</th>\n",
       "      <td>October 11-17, 2021</td>\n",
       "      <td>NaN</td>\n",
       "      <td>139019</td>\n",
       "      <td>27222</td>\n",
       "      <td>396922</td>\n",
       "      <td>NaN</td>\n",
       "      <td>77446</td>\n",
       "      <td>12687</td>\n",
       "      <td>224664</td>\n",
       "    </tr>\n",
       "    <tr>\n",
       "      <th>17</th>\n",
       "      <td>October 4-10, 2021</td>\n",
       "      <td>NaN</td>\n",
       "      <td>120856</td>\n",
       "      <td>24990</td>\n",
       "      <td>359900</td>\n",
       "      <td>NaN</td>\n",
       "      <td>86740</td>\n",
       "      <td>12814</td>\n",
       "      <td>243081</td>\n",
       "    </tr>\n",
       "    <tr>\n",
       "      <th>18</th>\n",
       "      <td>September 27 - October 3, 2021</td>\n",
       "      <td>NaN</td>\n",
       "      <td>121103</td>\n",
       "      <td>28980</td>\n",
       "      <td>366601</td>\n",
       "      <td>NaN</td>\n",
       "      <td>79650</td>\n",
       "      <td>14771</td>\n",
       "      <td>265180</td>\n",
       "    </tr>\n",
       "    <tr>\n",
       "      <th>19</th>\n",
       "      <td>September 20-26, 2021</td>\n",
       "      <td>NaN</td>\n",
       "      <td>110657</td>\n",
       "      <td>26719</td>\n",
       "      <td>384297</td>\n",
       "      <td>NaN</td>\n",
       "      <td>77770</td>\n",
       "      <td>13854</td>\n",
       "      <td>280871</td>\n",
       "    </tr>\n",
       "    <tr>\n",
       "      <th>20</th>\n",
       "      <td>September 13-19, 2021</td>\n",
       "      <td>NaN</td>\n",
       "      <td>110223</td>\n",
       "      <td>28307</td>\n",
       "      <td>363294</td>\n",
       "      <td>NaN</td>\n",
       "      <td>89425</td>\n",
       "      <td>16679</td>\n",
       "      <td>303032</td>\n",
       "    </tr>\n",
       "    <tr>\n",
       "      <th>21</th>\n",
       "      <td>September 6-12, 2021</td>\n",
       "      <td>NaN</td>\n",
       "      <td>114457</td>\n",
       "      <td>30759</td>\n",
       "      <td>351310</td>\n",
       "      <td>NaN</td>\n",
       "      <td>95381</td>\n",
       "      <td>18624</td>\n",
       "      <td>326435</td>\n",
       "    </tr>\n",
       "    <tr>\n",
       "      <th>22</th>\n",
       "      <td>August 30 - September 5, 2021</td>\n",
       "      <td>NaN</td>\n",
       "      <td>118027</td>\n",
       "      <td>33172</td>\n",
       "      <td>370702</td>\n",
       "      <td>NaN</td>\n",
       "      <td>79886</td>\n",
       "      <td>22020</td>\n",
       "      <td>347311</td>\n",
       "    </tr>\n",
       "    <tr>\n",
       "      <th>23</th>\n",
       "      <td>August 23-29, 2021</td>\n",
       "      <td>NaN</td>\n",
       "      <td>116648</td>\n",
       "      <td>32150</td>\n",
       "      <td>455296</td>\n",
       "      <td>NaN</td>\n",
       "      <td>71067</td>\n",
       "      <td>21192</td>\n",
       "      <td>354385</td>\n",
       "    </tr>\n",
       "    <tr>\n",
       "      <th>24</th>\n",
       "      <td>August 16-22, 2021</td>\n",
       "      <td>NaN</td>\n",
       "      <td>116602</td>\n",
       "      <td>33317</td>\n",
       "      <td>451318</td>\n",
       "      <td>NaN</td>\n",
       "      <td>71392</td>\n",
       "      <td>20845</td>\n",
       "      <td>362451</td>\n",
       "    </tr>\n",
       "    <tr>\n",
       "      <th>25</th>\n",
       "      <td>August 9-15, 2021</td>\n",
       "      <td>NaN</td>\n",
       "      <td>109216</td>\n",
       "      <td>31736</td>\n",
       "      <td>418003</td>\n",
       "      <td>NaN</td>\n",
       "      <td>70723</td>\n",
       "      <td>17770</td>\n",
       "      <td>365787</td>\n",
       "    </tr>\n",
       "    <tr>\n",
       "      <th>26</th>\n",
       "      <td>August 2-8, 2021</td>\n",
       "      <td>NaN</td>\n",
       "      <td>95923</td>\n",
       "      <td>29868</td>\n",
       "      <td>409125</td>\n",
       "      <td>NaN</td>\n",
       "      <td>42334</td>\n",
       "      <td>16457</td>\n",
       "      <td>383470</td>\n",
       "    </tr>\n",
       "    <tr>\n",
       "      <th>27</th>\n",
       "      <td>July 26 - August 1, 2021</td>\n",
       "      <td>NaN</td>\n",
       "      <td>78087</td>\n",
       "      <td>26151</td>\n",
       "      <td>389370</td>\n",
       "      <td>NaN</td>\n",
       "      <td>33543</td>\n",
       "      <td>13918</td>\n",
       "      <td>393035</td>\n",
       "    </tr>\n",
       "    <tr>\n",
       "      <th>28</th>\n",
       "      <td>July 19-25, 2021</td>\n",
       "      <td>NaN</td>\n",
       "      <td>64563</td>\n",
       "      <td>24668</td>\n",
       "      <td>381805</td>\n",
       "      <td>NaN</td>\n",
       "      <td>28940</td>\n",
       "      <td>13483</td>\n",
       "      <td>381753</td>\n",
       "    </tr>\n",
       "    <tr>\n",
       "      <th>29</th>\n",
       "      <td>July 12-18, 2021</td>\n",
       "      <td>NaN</td>\n",
       "      <td>58242</td>\n",
       "      <td>24834</td>\n",
       "      <td>381978</td>\n",
       "      <td>NaN</td>\n",
       "      <td>27110</td>\n",
       "      <td>13347</td>\n",
       "      <td>381748</td>\n",
       "    </tr>\n",
       "    <tr>\n",
       "      <th>30</th>\n",
       "      <td>July 5-11, 2021</td>\n",
       "      <td>NaN</td>\n",
       "      <td>58971</td>\n",
       "      <td>25267</td>\n",
       "      <td>369336</td>\n",
       "      <td>NaN</td>\n",
       "      <td>27922</td>\n",
       "      <td>13899</td>\n",
       "      <td>389273</td>\n",
       "    </tr>\n",
       "    <tr>\n",
       "      <th>31</th>\n",
       "      <td>June 28-July 4, 2021</td>\n",
       "      <td>NaN</td>\n",
       "      <td>24699</td>\n",
       "      <td>23897</td>\n",
       "      <td>352864</td>\n",
       "      <td>NaN</td>\n",
       "      <td>17374</td>\n",
       "      <td>12933</td>\n",
       "      <td>390412</td>\n",
       "    </tr>\n",
       "    <tr>\n",
       "      <th>32</th>\n",
       "      <td>June 21-27, 2021</td>\n",
       "      <td>NaN</td>\n",
       "      <td>23390</td>\n",
       "      <td>18722</td>\n",
       "      <td>351408</td>\n",
       "      <td>NaN</td>\n",
       "      <td>15923</td>\n",
       "      <td>10406</td>\n",
       "      <td>393993</td>\n",
       "    </tr>\n",
       "    <tr>\n",
       "      <th>33</th>\n",
       "      <td>June 14-20, 2021</td>\n",
       "      <td>NaN</td>\n",
       "      <td>20361</td>\n",
       "      <td>16251</td>\n",
       "      <td>336603</td>\n",
       "      <td>NaN</td>\n",
       "      <td>15203</td>\n",
       "      <td>9023</td>\n",
       "      <td>361022</td>\n",
       "    </tr>\n",
       "    <tr>\n",
       "      <th>34</th>\n",
       "      <td>June 7-13, 2021</td>\n",
       "      <td>NaN</td>\n",
       "      <td>19294</td>\n",
       "      <td>13220</td>\n",
       "      <td>353108</td>\n",
       "      <td>NaN</td>\n",
       "      <td>13995</td>\n",
       "      <td>7294</td>\n",
       "      <td>339424</td>\n",
       "    </tr>\n",
       "    <tr>\n",
       "      <th>35</th>\n",
       "      <td>May 31-June 6, 2021</td>\n",
       "      <td>NaN</td>\n",
       "      <td>19683</td>\n",
       "      <td>12645</td>\n",
       "      <td>351045</td>\n",
       "      <td>NaN</td>\n",
       "      <td>13753</td>\n",
       "      <td>7491</td>\n",
       "      <td>331351</td>\n",
       "    </tr>\n",
       "    <tr>\n",
       "      <th>36</th>\n",
       "      <td>May 24-30, 2021</td>\n",
       "      <td>NaN</td>\n",
       "      <td>17287</td>\n",
       "      <td>8239</td>\n",
       "      <td>374783</td>\n",
       "      <td>NaN</td>\n",
       "      <td>12093</td>\n",
       "      <td>4716</td>\n",
       "      <td>294959</td>\n",
       "    </tr>\n",
       "    <tr>\n",
       "      <th>37</th>\n",
       "      <td>May 17-23, 2021</td>\n",
       "      <td>NaN</td>\n",
       "      <td>14771</td>\n",
       "      <td>10749</td>\n",
       "      <td>420901</td>\n",
       "      <td>NaN</td>\n",
       "      <td>11221</td>\n",
       "      <td>5035</td>\n",
       "      <td>268052</td>\n",
       "    </tr>\n",
       "    <tr>\n",
       "      <th>38</th>\n",
       "      <td>May 10-16, 2021</td>\n",
       "      <td>NaN</td>\n",
       "      <td>14331</td>\n",
       "      <td>9540</td>\n",
       "      <td>404054</td>\n",
       "      <td>NaN</td>\n",
       "      <td>11265</td>\n",
       "      <td>4485</td>\n",
       "      <td>255972</td>\n",
       "    </tr>\n",
       "    <tr>\n",
       "      <th>39</th>\n",
       "      <td>May 3-9, 2021</td>\n",
       "      <td>NaN</td>\n",
       "      <td>17608</td>\n",
       "      <td>9373</td>\n",
       "      <td>420310</td>\n",
       "      <td>NaN</td>\n",
       "      <td>12404</td>\n",
       "      <td>4534</td>\n",
       "      <td>238607</td>\n",
       "    </tr>\n",
       "    <tr>\n",
       "      <th>40</th>\n",
       "      <td>Footnotes  Footnote 1  Traveller volumes indic...</td>\n",
       "      <td>Footnotes  Footnote 1  Traveller volumes indic...</td>\n",
       "      <td>Footnotes  Footnote 1  Traveller volumes indic...</td>\n",
       "      <td>Footnotes  Footnote 1  Traveller volumes indic...</td>\n",
       "      <td>Footnotes  Footnote 1  Traveller volumes indic...</td>\n",
       "      <td>Footnotes  Footnote 1  Traveller volumes indic...</td>\n",
       "      <td>Footnotes  Footnote 1  Traveller volumes indic...</td>\n",
       "      <td>Footnotes  Footnote 1  Traveller volumes indic...</td>\n",
       "      <td>Footnotes  Footnote 1  Traveller volumes indic...</td>\n",
       "    </tr>\n",
       "  </tbody>\n",
       "</table>\n",
       "</div>"
      ],
      "text/plain": [
       "                                    Date  Footnote  1  \\\n",
       "                                    Date  Footnote  1   \n",
       "0                       January 31 - February 6, 2022   \n",
       "1                                 January 24-30, 2022   \n",
       "2                                 January 17-23, 2022   \n",
       "3                                 January 10-16, 2022   \n",
       "4                                   January 3-9, 2022   \n",
       "5                 December 27, 2021 – January 2, 2022   \n",
       "6                                December 20-26, 2021   \n",
       "7                                December 13-19, 2021   \n",
       "8                                 December 6-12, 2021   \n",
       "9                      November 29 – December 5, 2021   \n",
       "10                               November 22-28, 2021   \n",
       "11                               November 15-21, 2021   \n",
       "12                                November 8-14, 2021   \n",
       "13                                 November 1-7, 2021   \n",
       "14                                October 25-31, 2021   \n",
       "15                                October 18-24, 2021   \n",
       "16                                October 11-17, 2021   \n",
       "17                                 October 4-10, 2021   \n",
       "18                     September 27 - October 3, 2021   \n",
       "19                              September 20-26, 2021   \n",
       "20                              September 13-19, 2021   \n",
       "21                               September 6-12, 2021   \n",
       "22                      August 30 - September 5, 2021   \n",
       "23                                 August 23-29, 2021   \n",
       "24                                 August 16-22, 2021   \n",
       "25                                  August 9-15, 2021   \n",
       "26                                   August 2-8, 2021   \n",
       "27                           July 26 - August 1, 2021   \n",
       "28                                   July 19-25, 2021   \n",
       "29                                   July 12-18, 2021   \n",
       "30                                    July 5-11, 2021   \n",
       "31                               June 28-July 4, 2021   \n",
       "32                                   June 21-27, 2021   \n",
       "33                                   June 14-20, 2021   \n",
       "34                                    June 7-13, 2021   \n",
       "35                                May 31-June 6, 2021   \n",
       "36                                    May 24-30, 2021   \n",
       "37                                    May 17-23, 2021   \n",
       "38                                    May 10-16, 2021   \n",
       "39                                      May 3-9, 2021   \n",
       "40  Footnotes  Footnote 1  Traveller volumes indic...   \n",
       "\n",
       "                       Canadian citizens  Footnote  2  \\\n",
       "                                                 2022   \n",
       "0                                              139481   \n",
       "1                                              139143   \n",
       "2                                              142544   \n",
       "3                                              174415   \n",
       "4                                              216752   \n",
       "5                                                 NaN   \n",
       "6                                                 NaN   \n",
       "7                                                 NaN   \n",
       "8                                                 NaN   \n",
       "9                                                 NaN   \n",
       "10                                                NaN   \n",
       "11                                                NaN   \n",
       "12                                                NaN   \n",
       "13                                                NaN   \n",
       "14                                                NaN   \n",
       "15                                                NaN   \n",
       "16                                                NaN   \n",
       "17                                                NaN   \n",
       "18                                                NaN   \n",
       "19                                                NaN   \n",
       "20                                                NaN   \n",
       "21                                                NaN   \n",
       "22                                                NaN   \n",
       "23                                                NaN   \n",
       "24                                                NaN   \n",
       "25                                                NaN   \n",
       "26                                                NaN   \n",
       "27                                                NaN   \n",
       "28                                                NaN   \n",
       "29                                                NaN   \n",
       "30                                                NaN   \n",
       "31                                                NaN   \n",
       "32                                                NaN   \n",
       "33                                                NaN   \n",
       "34                                                NaN   \n",
       "35                                                NaN   \n",
       "36                                                NaN   \n",
       "37                                                NaN   \n",
       "38                                                NaN   \n",
       "39                                                NaN   \n",
       "40  Footnotes  Footnote 1  Traveller volumes indic...   \n",
       "\n",
       "                                                       \\\n",
       "                                                 2021   \n",
       "0                                               35159   \n",
       "1                                               35421   \n",
       "2                                               34966   \n",
       "3                                               43161   \n",
       "4                                               61790   \n",
       "5                                              215665   \n",
       "6                                              189961   \n",
       "7                                              218021   \n",
       "8                                              204453   \n",
       "9                                              201344   \n",
       "10                                             182637   \n",
       "11                                             190192   \n",
       "12                                             168457   \n",
       "13                                             136723   \n",
       "14                                             142549   \n",
       "15                                             128740   \n",
       "16                                             139019   \n",
       "17                                             120856   \n",
       "18                                             121103   \n",
       "19                                             110657   \n",
       "20                                             110223   \n",
       "21                                             114457   \n",
       "22                                             118027   \n",
       "23                                             116648   \n",
       "24                                             116602   \n",
       "25                                             109216   \n",
       "26                                              95923   \n",
       "27                                              78087   \n",
       "28                                              64563   \n",
       "29                                              58242   \n",
       "30                                              58971   \n",
       "31                                              24699   \n",
       "32                                              23390   \n",
       "33                                              20361   \n",
       "34                                              19294   \n",
       "35                                              19683   \n",
       "36                                              17287   \n",
       "37                                              14771   \n",
       "38                                              14331   \n",
       "39                                              17608   \n",
       "40  Footnotes  Footnote 1  Traveller volumes indic...   \n",
       "\n",
       "                                                       \\\n",
       "                                                 2020   \n",
       "0                                              495238   \n",
       "1                                              503938   \n",
       "2                                              472743   \n",
       "3                                              489288   \n",
       "4                                              539965   \n",
       "5                                               56046   \n",
       "6                                               37301   \n",
       "7                                               38278   \n",
       "8                                               38960   \n",
       "9                                               40112   \n",
       "10                                              31474   \n",
       "11                                              30367   \n",
       "12                                              27442   \n",
       "13                                              27504   \n",
       "14                                              26945   \n",
       "15                                              25191   \n",
       "16                                              27222   \n",
       "17                                              24990   \n",
       "18                                              28980   \n",
       "19                                              26719   \n",
       "20                                              28307   \n",
       "21                                              30759   \n",
       "22                                              33172   \n",
       "23                                              32150   \n",
       "24                                              33317   \n",
       "25                                              31736   \n",
       "26                                              29868   \n",
       "27                                              26151   \n",
       "28                                              24668   \n",
       "29                                              24834   \n",
       "30                                              25267   \n",
       "31                                              23897   \n",
       "32                                              18722   \n",
       "33                                              16251   \n",
       "34                                              13220   \n",
       "35                                              12645   \n",
       "36                                               8239   \n",
       "37                                              10749   \n",
       "38                                               9540   \n",
       "39                                               9373   \n",
       "40  Footnotes  Footnote 1  Traveller volumes indic...   \n",
       "\n",
       "                                                       \\\n",
       "                                                 2019   \n",
       "0                                              480270   \n",
       "1                                              486947   \n",
       "2                                              469773   \n",
       "3                                              472565   \n",
       "4                                              526782   \n",
       "5                                              590261   \n",
       "6                                              417490   \n",
       "7                                              431390   \n",
       "8                                              433800   \n",
       "9                                              420747   \n",
       "10                                             407199   \n",
       "11                                             442827   \n",
       "12                                             447174   \n",
       "13                                             384256   \n",
       "14                                             354995   \n",
       "15                                             386415   \n",
       "16                                             396922   \n",
       "17                                             359900   \n",
       "18                                             366601   \n",
       "19                                             384297   \n",
       "20                                             363294   \n",
       "21                                             351310   \n",
       "22                                             370702   \n",
       "23                                             455296   \n",
       "24                                             451318   \n",
       "25                                             418003   \n",
       "26                                             409125   \n",
       "27                                             389370   \n",
       "28                                             381805   \n",
       "29                                             381978   \n",
       "30                                             369336   \n",
       "31                                             352864   \n",
       "32                                             351408   \n",
       "33                                             336603   \n",
       "34                                             353108   \n",
       "35                                             351045   \n",
       "36                                             374783   \n",
       "37                                             420901   \n",
       "38                                             404054   \n",
       "39                                             420310   \n",
       "40  Footnotes  Footnote 1  Traveller volumes indic...   \n",
       "\n",
       "                              Other foreign nationals  \\\n",
       "                                                 2022   \n",
       "0                                               58488   \n",
       "1                                               57305   \n",
       "2                                               58154   \n",
       "3                                               67794   \n",
       "4                                               72189   \n",
       "5                                                 NaN   \n",
       "6                                                 NaN   \n",
       "7                                                 NaN   \n",
       "8                                                 NaN   \n",
       "9                                                 NaN   \n",
       "10                                                NaN   \n",
       "11                                                NaN   \n",
       "12                                                NaN   \n",
       "13                                                NaN   \n",
       "14                                                NaN   \n",
       "15                                                NaN   \n",
       "16                                                NaN   \n",
       "17                                                NaN   \n",
       "18                                                NaN   \n",
       "19                                                NaN   \n",
       "20                                                NaN   \n",
       "21                                                NaN   \n",
       "22                                                NaN   \n",
       "23                                                NaN   \n",
       "24                                                NaN   \n",
       "25                                                NaN   \n",
       "26                                                NaN   \n",
       "27                                                NaN   \n",
       "28                                                NaN   \n",
       "29                                                NaN   \n",
       "30                                                NaN   \n",
       "31                                                NaN   \n",
       "32                                                NaN   \n",
       "33                                                NaN   \n",
       "34                                                NaN   \n",
       "35                                                NaN   \n",
       "36                                                NaN   \n",
       "37                                                NaN   \n",
       "38                                                NaN   \n",
       "39                                                NaN   \n",
       "40  Footnotes  Footnote 1  Traveller volumes indic...   \n",
       "\n",
       "                                                       \\\n",
       "                                                 2021   \n",
       "0                                               19674   \n",
       "1                                               17245   \n",
       "2                                               18566   \n",
       "3                                               23197   \n",
       "4                                               28937   \n",
       "5                                               83824   \n",
       "6                                              125526   \n",
       "7                                              113667   \n",
       "8                                               81193   \n",
       "9                                               73641   \n",
       "10                                              68200   \n",
       "11                                              72389   \n",
       "12                                              68362   \n",
       "13                                              68571   \n",
       "14                                              70310   \n",
       "15                                              76012   \n",
       "16                                              77446   \n",
       "17                                              86740   \n",
       "18                                              79650   \n",
       "19                                              77770   \n",
       "20                                              89425   \n",
       "21                                              95381   \n",
       "22                                              79886   \n",
       "23                                              71067   \n",
       "24                                              71392   \n",
       "25                                              70723   \n",
       "26                                              42334   \n",
       "27                                              33543   \n",
       "28                                              28940   \n",
       "29                                              27110   \n",
       "30                                              27922   \n",
       "31                                              17374   \n",
       "32                                              15923   \n",
       "33                                              15203   \n",
       "34                                              13995   \n",
       "35                                              13753   \n",
       "36                                              12093   \n",
       "37                                              11221   \n",
       "38                                              11265   \n",
       "39                                              12404   \n",
       "40  Footnotes  Footnote 1  Traveller volumes indic...   \n",
       "\n",
       "                                                       \\\n",
       "                                                 2020   \n",
       "0                                              150940   \n",
       "1                                              155407   \n",
       "2                                              170805   \n",
       "3                                              181703   \n",
       "4                                              189356   \n",
       "5                                               22669   \n",
       "6                                               18823   \n",
       "7                                               20089   \n",
       "8                                               17987   \n",
       "9                                               17877   \n",
       "10                                              13884   \n",
       "11                                              13828   \n",
       "12                                              12935   \n",
       "13                                              14151   \n",
       "14                                              13424   \n",
       "15                                              12167   \n",
       "16                                              12687   \n",
       "17                                              12814   \n",
       "18                                              14771   \n",
       "19                                              13854   \n",
       "20                                              16679   \n",
       "21                                              18624   \n",
       "22                                              22020   \n",
       "23                                              21192   \n",
       "24                                              20845   \n",
       "25                                              17770   \n",
       "26                                              16457   \n",
       "27                                              13918   \n",
       "28                                              13483   \n",
       "29                                              13347   \n",
       "30                                              13899   \n",
       "31                                              12933   \n",
       "32                                              10406   \n",
       "33                                               9023   \n",
       "34                                               7294   \n",
       "35                                               7491   \n",
       "36                                               4716   \n",
       "37                                               5035   \n",
       "38                                               4485   \n",
       "39                                               4534   \n",
       "40  Footnotes  Footnote 1  Traveller volumes indic...   \n",
       "\n",
       "                                                       \n",
       "                                                 2019  \n",
       "0                                              166538  \n",
       "1                                              169035  \n",
       "2                                              162219  \n",
       "3                                              177504  \n",
       "4                                              183923  \n",
       "5                                              193727  \n",
       "6                                              267727  \n",
       "7                                              245639  \n",
       "8                                              175905  \n",
       "9                                              165255  \n",
       "10                                             155087  \n",
       "11                                             160494  \n",
       "12                                             160960  \n",
       "13                                             168713  \n",
       "14                                             166531  \n",
       "15                                             203898  \n",
       "16                                             224664  \n",
       "17                                             243081  \n",
       "18                                             265180  \n",
       "19                                             280871  \n",
       "20                                             303032  \n",
       "21                                             326435  \n",
       "22                                             347311  \n",
       "23                                             354385  \n",
       "24                                             362451  \n",
       "25                                             365787  \n",
       "26                                             383470  \n",
       "27                                             393035  \n",
       "28                                             381753  \n",
       "29                                             381748  \n",
       "30                                             389273  \n",
       "31                                             390412  \n",
       "32                                             393993  \n",
       "33                                             361022  \n",
       "34                                             339424  \n",
       "35                                             331351  \n",
       "36                                             294959  \n",
       "37                                             268052  \n",
       "38                                             255972  \n",
       "39                                             238607  \n",
       "40  Footnotes  Footnote 1  Traveller volumes indic...  "
      ]
     },
     "execution_count": 26,
     "metadata": {},
     "output_type": "execute_result"
    }
   ],
   "source": [
    "border_testing_weekly_air_volumes_by_nationalities"
   ]
  },
  {
   "cell_type": "markdown",
   "id": "346e1ae3",
   "metadata": {
    "heading_collapsed": true,
    "hidden": true
   },
   "source": [
    "### Vaccination status Jul5,2021- Feb19,2022"
   ]
  },
  {
   "cell_type": "code",
   "execution_count": 125,
   "id": "ba129e5a",
   "metadata": {
    "hidden": true
   },
   "outputs": [],
   "source": [
    "Canada_testing_result_unvaccinated = pd.read_html(canada_tables[2].prettify())[0].drop(16)\n",
    "Canada_testing_result_unvaccinated = Canada_border_testing(Canada_testing_result_unvaccinated)\n",
    "Canada_testing_result_unvaccinated.to_csv('./dataset/preprocessed_data/Canada_BT/Canada_testing_result_unvaccinated.tsv',index=True)\n",
    "# Canada_testing_result_unvaccinated = pd.read_csv('./dataset/preprocessed_data/Canada_BT/Canada_testing_result_unvaccinated.tsv',index_col=[0],header=[0,1])"
   ]
  },
  {
   "cell_type": "code",
   "execution_count": 126,
   "id": "16b16356",
   "metadata": {
    "hidden": true
   },
   "outputs": [],
   "source": [
    "Canada_testing_result_vaccinated = pd.read_html(canada_tables[3].prettify())[0].drop(16)\n",
    "Canada_testing_result_vaccinated = Canada_border_testing(Canada_testing_result_vaccinated)\n",
    "Canada_testing_result_vaccinated.to_csv('./dataset/preprocessed_data/Canada_BT/Canada_testing_result_vaccinated.tsv',index=True)\n",
    "# Canada_testing_result_vaccinated = pd.read_csv('./dataset/preprocessed_data/Canada_BT/Canada_testing_result_vaccinated.tsv',index_col=[0],header=[0,1])"
   ]
  },
  {
   "cell_type": "code",
   "execution_count": 164,
   "id": "900737a1",
   "metadata": {
    "hidden": true
   },
   "outputs": [],
   "source": [
    "def get_total_summary(df):\n",
    "    nov28_dec25 = pd.Series(df.iloc[3:7,:].sum(),name='Nov28-Dec25,2021')\n",
    "    dec26_jan29 = pd.Series(df.iloc[7:12,:].sum(),name='Dec26-Jan29,2022')\n",
    "    jan30_feb19 = pd.Series(df.iloc[12:15,:].sum(),name='Jan30-Feb19,2022')\n",
    "    \n",
    "    \n",
    "    df = df.append([nov28_dec25, dec26_jan29, jan30_feb19])\n",
    "    df = df.reset_index()\n",
    "    df.columns = ['Date'] + df.columns.tolist()[1:]\n",
    "    df = df.drop([3,4,5,6,7,8,9,10,11,12,13,14,15])\n",
    "    df = df.set_index('Date')\n",
    "    df = df.rename({'Total (July 5 to August 8, 2021)':'Jul5-Aug8,2021',\n",
    "              'Total (August 9 to September 9, 2021)':'Aug9-Sep9,2021',\n",
    "              'Total (September 10 to November 27, 2021)':'Sep10-Nov27,2021'})\n",
    "    df['Percent positive'] = round(((df['Test positive']/ df['Total tests completed'])*100),2)\n",
    "    return df"
   ]
  },
  {
   "cell_type": "code",
   "execution_count": 166,
   "id": "8d8dd8f5",
   "metadata": {
    "hidden": true
   },
   "outputs": [],
   "source": [
    "Canada_testing_result_vaccinated = get_total_summary(\n",
    "    Canada_testing_result_vaccinated['Total'][[\n",
    "        'Total tests completed', 'Test positive'\n",
    "    ]])\n",
    "Canada_testing_result_unvaccinated = get_total_summary(\n",
    "    Canada_testing_result_unvaccinated['Total'][[\n",
    "        'Total tests completed', 'Test positive'\n",
    "    ]])"
   ]
  },
  {
   "cell_type": "code",
   "execution_count": 168,
   "id": "35293055",
   "metadata": {
    "hidden": true
   },
   "outputs": [],
   "source": [
    "Canada_testing_result_vaccinated['Vaccinated'] = 'Vaccinated'\n",
    "Canada_testing_result_unvaccinated['Vaccinated'] = 'Unvaccinated/Partially'\n",
    "\n",
    "Canada_testing_result_vaxx = pd.concat([Canada_testing_result_unvaccinated,Canada_testing_result_vaccinated])"
   ]
  },
  {
   "cell_type": "code",
   "execution_count": 170,
   "id": "9a0fdeb1",
   "metadata": {
    "hidden": true
   },
   "outputs": [],
   "source": [
    "Canada_testing_result_vaxx.to_csv('./dataset/preprocessed_data/Canada_BT/Canada_testing_result_vaxx.csv',index=True)"
   ]
  },
  {
   "cell_type": "markdown",
   "id": "69980a76",
   "metadata": {
    "heading_collapsed": true
   },
   "source": [
    "## Iceland data"
   ]
  },
  {
   "cell_type": "markdown",
   "id": "61da2b0a",
   "metadata": {
    "hidden": true
   },
   "source": [
    "[Iceland](https://www.covid.is/data) has:\n",
    "- Border Number of test from 15/06/2020 - 24/02/2022\n",
    "- Percentage of positive tests\n",
    "- 14-day incidence per 100 000 inhabitants?"
   ]
  },
  {
   "cell_type": "code",
   "execution_count": 24,
   "id": "c015f73f",
   "metadata": {
    "code_folding": [
     3,
     11,
     19,
     27
    ],
    "hidden": true
   },
   "outputs": [],
   "source": [
    "from datetime import datetime\n",
    "\n",
    "dateparse = lambda x: datetime.strptime(x, '%d.%m.%y')\n",
    "Border_test_2020 = pd.read_csv(\n",
    "    './dataset/preprocessed_data/Iceland_BT/raw/Border_test_number/2020.csv',\n",
    "    parse_dates=True,\n",
    "    date_parser=dateparse,\n",
    "    index_col=[0],\n",
    "    usecols=[0, 2],\n",
    "    names=['Date', 'Total tests'],\n",
    "    header=0)\n",
    "Border_test_2021 = pd.read_csv(\n",
    "    './dataset/preprocessed_data/Iceland_BT/raw/Border_test_number/2021.csv',\n",
    "    parse_dates=True,\n",
    "    date_parser=dateparse,\n",
    "    index_col=[0],\n",
    "    usecols=[0, 2],\n",
    "    names=['Date', 'Total tests'],\n",
    "    header=0)\n",
    "Border_test_2022_1 = pd.read_csv(\n",
    "    './dataset/preprocessed_data/Iceland_BT/raw/Border_test_number/01.01.2022-10.02.2022.csv',\n",
    "    parse_dates=True,\n",
    "    date_parser=dateparse,\n",
    "    index_col=[0],\n",
    "    usecols=[0, 2],\n",
    "    names=['Date', 'Total tests'],\n",
    "    header=0)\n",
    "Border_test_2022_2 = pd.read_csv(\n",
    "    './dataset/preprocessed_data/Iceland_BT/raw/Border_test_number/From 11.02.2022.csv',\n",
    "    parse_dates=True,\n",
    "    date_parser=dateparse,\n",
    "    index_col=[0],\n",
    "    usecols=[0, 3],\n",
    "    names=['Date', 'Total tests'],\n",
    "    header=0)\n",
    "\n",
    "Iceland_total_tests = pd.concat([Border_test_2020,Border_test_2021,Border_test_2022_1,Border_test_2022_2])\n",
    "Iceland_total_tests = Iceland_total_tests[~Iceland_total_tests.index.duplicated(keep='first')]"
   ]
  },
  {
   "cell_type": "code",
   "execution_count": 25,
   "id": "6e3e090c",
   "metadata": {
    "code_folding": [
     0
    ],
    "hidden": true
   },
   "outputs": [],
   "source": [
    "percentage_2020 = pd.read_csv(\n",
    "    './dataset/preprocessed_data/Iceland_BT/raw/positive_percentage/2020.csv',\n",
    "    parse_dates=True,\n",
    "    index_col=[0],\n",
    "    date_parser=dateparse,\n",
    "    usecols=[0, 2],\n",
    "    names=['Date', 'percent positive'],\n",
    "    header=0)\n",
    "percentage_2021 = pd.read_csv(\n",
    "    './dataset/preprocessed_data/Iceland_BT/raw/positive_percentage/2021.csv',\n",
    "    parse_dates=True,\n",
    "    date_parser=dateparse,\n",
    "    index_col=[0],\n",
    "    usecols=[0, 2],\n",
    "    names=['Date', 'percent positive'],\n",
    "    header=0)\n",
    "percentage_2022_1 = pd.read_csv(\n",
    "    './dataset/preprocessed_data/Iceland_BT/raw/positive_percentage/01.01.2022-10.02.2022.csv',\n",
    "    parse_dates=True,\n",
    "    date_parser=dateparse,\n",
    "    index_col=[0],\n",
    "    usecols=[0, 2],\n",
    "    names=['Date', 'percent positive'],\n",
    "    header=0)\n",
    "percentage_2022_2 = pd.read_csv(\n",
    "    './dataset/preprocessed_data/Iceland_BT/raw/positive_percentage/From 11.02.2022.csv',\n",
    "    parse_dates=True,\n",
    "    date_parser=dateparse,\n",
    "    index_col=[0],\n",
    "    usecols=[0, 3],\n",
    "    names=['Date', 'percent positive'],\n",
    "    header=0)\n",
    "Iceland_percent_positive = pd.concat([percentage_2020,percentage_2021,percentage_2022_1,percentage_2022_2])\n",
    "# Iceland_percent_positive = Iceland_percent_positive[~Iceland_percent_positive.index.duplicated(keep='first')]"
   ]
  },
  {
   "cell_type": "code",
   "execution_count": 26,
   "id": "18dca9aa",
   "metadata": {
    "hidden": true
   },
   "outputs": [],
   "source": [
    "Iceland_total_tests = pd.concat([Iceland_total_tests,Iceland_percent_positive],axis=1)\n",
    "\n",
    "Iceland_total_tests = Iceland_total_tests[~Iceland_total_tests['Total tests'].isna()]\n"
   ]
  },
  {
   "cell_type": "code",
   "execution_count": 27,
   "id": "03b185da",
   "metadata": {
    "hidden": true
   },
   "outputs": [],
   "source": [
    "percent_positive = [float(i.replace(',','.').replace('%','')) if type(i)==str else np.nan for i in Iceland_total_tests['percent positive']]\n",
    "Iceland_total_tests['percent positive'] = percent_positive"
   ]
  },
  {
   "cell_type": "code",
   "execution_count": 28,
   "id": "54730c23",
   "metadata": {
    "hidden": true
   },
   "outputs": [],
   "source": [
    "Iceland_total_tests['positive'] = np.ceil((Iceland_total_tests['percent positive'] * Iceland_total_tests['Total tests'])/ 100)\n",
    "Iceland_total_tests = Iceland_total_tests.drop('percent positive',axis=1)"
   ]
  },
  {
   "cell_type": "code",
   "execution_count": 29,
   "id": "3238bf8f",
   "metadata": {
    "hidden": true
   },
   "outputs": [],
   "source": [
    "Iceland_total_tests.to_csv('./dataset/preprocessed_data/Iceland_BT/Iceland_total_test.csv',index=True)"
   ]
  },
  {
   "cell_type": "markdown",
   "id": "e90048b3",
   "metadata": {
    "heading_collapsed": true
   },
   "source": [
    "## Israel data"
   ]
  },
  {
   "cell_type": "markdown",
   "id": "8ebb75e7",
   "metadata": {
    "hidden": true
   },
   "source": [
    "[Israel](https://datadashboard.health.gov.il/COVID-19/general?utm_source=go.gov.il&utm_medium=referral) has:\n",
    "- Border testing daily divided by country\n",
    "- vaccine status"
   ]
  },
  {
   "cell_type": "code",
   "execution_count": 2,
   "id": "df89b8a0",
   "metadata": {
    "hidden": true
   },
   "outputs": [],
   "source": [
    "border_testing = pd.read_excel('./dataset/preprocessed_data/Israel_BT/raw/border_testing_Israel.xlsx',header=[1])\n",
    "\n",
    "border_testing.columns = [\n",
    "    'Date', 'Hebrew_Country', 'Positive residents', 'Positive foreigners',\n",
    "    'Positive resident percentage', 'Positive foreigners percentage'\n",
    "]\n",
    "\n",
    "border_testing['Date'] = pd.to_datetime(border_testing['Date'],\n",
    "                                        format='%d-%m-%Y')"
   ]
  },
  {
   "cell_type": "code",
   "execution_count": 3,
   "id": "c5699e2d",
   "metadata": {
    "code_folding": [
     1
    ],
    "hidden": true
   },
   "outputs": [],
   "source": [
    "unique_countries = border_testing['Hebrew_Country'].unique()\n",
    "translated_countries = [\n",
    "    'Guinea', 'Lesotho', 'Latvia', 'Montenegro', 'Mexico', 'South Korea',\n",
    "    'France', 'United States', 'Turkey', 'Singapore', 'Sri Lanka (photo)',\n",
    "    'Egypt', 'Moldova', 'Cyprus', 'Kazakhstan', 'Italy', 'Lithuania',\n",
    "    'Bosnia and Herzegovina', 'Belgium', 'Denmark', 'Ecuador', 'Guatemala',\n",
    "    'Georgia', 'Sao Tome and Principe', 'Maldives', 'Russia', 'Sweden',\n",
    "    'Botswana', 'Greece', 'Romania', 'Belarus', 'Serbia', 'Dominican Harp',\n",
    "    'Armenia', 'Brazil', 'Zimbabwe', 'Finland', 'Ivory Coast', 'Angola',\n",
    "    'Australia', 'Japan', 'Canada', 'Austria', 'Philippines', 'Czech Republic',\n",
    "    'Ukraine', 'South Sudan', 'Azerbaijan', 'Malta', 'Puerto Rico', 'Nigeria',\n",
    "    'Tanzania', 'Kenya', 'New Zealand', 'Hong Kong', 'Ethiopia', 'Norway',\n",
    "    'Colombia', 'Ireland', 'United Kingdom', 'Poland', 'Uganda', 'Morocco',\n",
    "    'Nepal', 'Hungary', 'Rwanda', 'Ghana', 'Luxembourg', 'Zambia', 'Thailand',\n",
    "    'Costa Rica', 'UAE', 'Slovenia', 'Spain', 'Germany', 'Zaire',\n",
    "    'Netherlands', 'China', 'Portugal', 'Croatia', 'Turkmenistan',\n",
    "    'South Africa', 'Switzerland', 'All Countries', 'Chile', 'Seychelles',\n",
    "    'Iceland', 'Peru', 'Indonesia', 'Taiwan', 'Uzbekistan', 'Tunisia',\n",
    "    'Venezuela', 'Jordan', 'Iraq', 'Saudi Arabia', 'Kyrgyzstan', 'Bulgaria',\n",
    "    'Sierra Leone', 'Uruguay', 'Albania', 'Syria', 'Bolivia', 'Paraguay',\n",
    "    'Panama', 'India', 'Cuba', 'Senegal', 'Argentina', 'Burundi', 'Oman',\n",
    "    'Lebanon', 'Mali', 'Mozambique', 'Netherlands Antilles',\n",
    "    'Wallis and Futuna Islands', 'Estonia', 'Cameroon', 'Madagascar', 'Qatar',\n",
    "    'Gabon', 'Bahrain', 'Namibia', 'Malawi', 'Central African Rap', 'Vietnam',\n",
    "    'El Salvador', 'Monaco', 'Honduras', 'San Marino', 'Macedonia',\n",
    "    'Tajikistan', 'Antigua and Barbuda', 'Virgin Islands', 'Bahamas',\n",
    "    'Liberia', 'Barbados', 'Kosovo', 'Togo', 'Congo', 'Laos', 'Kiribati',\n",
    "    'St Vincent', 'Reunion', 'Grande', 'French Polynesia', 'New Guinea',\n",
    "    'Bermuda', 'French Guiana', 'New Caledonia', 'Mauritius', 'Gamaica',\n",
    "    'Gibraltar', 'Cape Verde', ' Equatorial Guinea ', ' Libya ', ' Swaziland ',\n",
    "    ' Tsad ', 'Gambia', 'Turks and Caicos Islands', 'Burkina Faso', 'Dominica',\n",
    "    'Cambodia', 'Malaysia', 'Vanuatu', 'Samoa', 'England', 'Kuwait',\n",
    "    'Mongolia', 'Algeria', 'Haiti', 'Piggy Islands',\n",
    "    'Gilbert and Alice Islands', 'Slovakia', 'Martinique', 'Tuvalu', 'Andorra',\n",
    "    'Eritrea', 'Pakistan', 'Nicaragua', 'Niger', 'Palau', 'Sudan',\n",
    "    'Marshall Islands', 'Belize', 'Afghanistan', 'North Korea', 'Suriname',\n",
    "    'Brunei', 'Papua', 'Myanmar (Burma)', 'Cook Islands', 'Yemen',\n",
    "    'Benin (Dahumi)', 'Tonga', 'Macau', 'Iran', 'Bangladesh', 'Guam',\n",
    "    'East Timor', 'Somalia', 'Trinidad and Tobago', 'Giboti',\n",
    "    'British Solomon Islands', 'Norfolk Islands', 'Falkland Islands', 'Guyana',\n",
    "    'St. Lucia ', ' Liechtenstein ', ' Congo, Ref. Deep. ', ' Peanut ',\n",
    "    'Nauru', 'Comoros', 'Guadeloupe', 'Mauritania', 'Guinea-Bissau',\n",
    "    'Cayman Islands', ' St. Keats and Nevis'\n",
    "]\n",
    "\n",
    "country_dict = dict(zip(unique_countries, translated_countries))\n",
    "border_testing['Country'] = [\n",
    "    country_dict[country] for country in border_testing['Hebrew_Country']\n",
    "]"
   ]
  },
  {
   "cell_type": "code",
   "execution_count": 4,
   "id": "ecdef18e",
   "metadata": {
    "hidden": true
   },
   "outputs": [],
   "source": [
    "border_testing['Total residents'] = border_testing['Positive residents'] / (border_testing['Positive resident percentage']/\n",
    "                                                                          100)\n",
    "border_testing['Total foreigners'] = border_testing['Positive foreigners'] / (border_testing['Positive foreigners percentage']/\n",
    "                                                                          100)\n",
    "border_testing = border_testing.replace([np.inf, -np.inf], np.nan)\n",
    "border_testing = border_testing.fillna(0)"
   ]
  },
  {
   "cell_type": "code",
   "execution_count": 86,
   "id": "04183880",
   "metadata": {
    "deletable": false,
    "editable": false,
    "hidden": true,
    "run_control": {
     "frozen": true
    }
   },
   "outputs": [],
   "source": [
    "vaccination_status = pd.read_excel('./dataset/preprocessed_data/Israel_BT/raw/vaccine_status.xlsx',header=[1])\n",
    "vaccination_status.columns = [\n",
    "    'Date', 'Hebrew_Country', 'Positive and vaccinated',\n",
    "    'Positive and vaccinated (not valid)', 'Positive unvaccinated',\n",
    "    'Vaccinated residents', 'Vaccinated(not valid) residents',\n",
    "    'Unvaccinated residents'\n",
    "]\n",
    "vaccination_status['Date'] = pd.to_datetime(vaccination_status['Date'],format='%d-%m-%Y')\n",
    "vaccination_status['Country'] = [country_dict[country] for country in vaccination_status['Hebrew_Country']]"
   ]
  },
  {
   "cell_type": "code",
   "execution_count": 88,
   "id": "2716fae3",
   "metadata": {
    "deletable": false,
    "editable": false,
    "hidden": true,
    "run_control": {
     "frozen": true
    }
   },
   "outputs": [],
   "source": [
    "vaccination_status.to_csv('./dataset/preprocessed_data/Israel_BT/vaccination_status.csv',index=False)"
   ]
  },
  {
   "cell_type": "code",
   "execution_count": 6,
   "id": "c705a545",
   "metadata": {
    "hidden": true
   },
   "outputs": [],
   "source": [
    "border_testing['Total positive'] = border_testing['Positive residents'] + border_testing['Positive foreigners']\n",
    "border_testing['Total tests'] = border_testing['Total residents'] + border_testing['Total foreigners']\n",
    "border_testing_total = border_testing[['Date','Total positive','Total tests','Country']].copy()\n",
    "# border_testing_total = border_testing_total[border_testing_total['Country']=='All Countries']\n",
    "border_testing_total['Total tests'] = np.ceil(border_testing_total['Total tests'])"
   ]
  },
  {
   "cell_type": "code",
   "execution_count": 9,
   "id": "0dd20478",
   "metadata": {
    "hidden": true
   },
   "outputs": [],
   "source": [
    "border_testing_total.to_csv('./dataset/preprocessed_data/Israel_BT/border_testing_total.csv',index=False)"
   ]
  },
  {
   "cell_type": "code",
   "execution_count": 5,
   "id": "bde1f07f",
   "metadata": {
    "hidden": true
   },
   "outputs": [],
   "source": [
    "border_testing_total = pd.read_csv('./dataset/preprocessed_data/Israel_BT/border_testing.csv')"
   ]
  },
  {
   "cell_type": "markdown",
   "id": "9c31a771",
   "metadata": {
    "heading_collapsed": true
   },
   "source": [
    "## Korea data"
   ]
  },
  {
   "cell_type": "markdown",
   "id": "482f8ccd",
   "metadata": {
    "hidden": true
   },
   "source": [
    "Korea data can be scrapped from the Wayback machine"
   ]
  },
  {
   "cell_type": "code",
   "execution_count": null,
   "id": "e3a58c22",
   "metadata": {
    "hidden": true
   },
   "outputs": [],
   "source": [
    "from analyses_code import wayback_webscrapping\n",
    "import time\n",
    "import pandas as pd\n",
    "import tqdm\n",
    "\n",
    "url = 'http://ncov.mohw.go.kr/bdBoardList_Real.do?brdId=1&brdGubun=11&ncvContSeq=&contSeq=&board_id=&gubun='\n",
    "wbm = wayback_webscrapping.Waybackmachine(url)\n",
    "wbm.get_date_range('2020-04-26','2022-03-15')\n",
    "\n",
    "for date in tqdm.tqdm(wbm.all_dates):\n",
    "    website_html = wbm.get_html(date)\n",
    "    time.sleep(2)\n",
    "    table = wbm.look_for_table(website_html,caption_text='해외유입 환자현황')\n",
    "    if not table:\n",
    "        continue\n",
    "    table = wbm.save_table(table,date)\n",
    "    table.to_csv(f'./dataset/preprocessed_data/Korea_BT/raw/{date}.txt',index=False)"
   ]
  },
  {
   "cell_type": "code",
   "execution_count": 41,
   "id": "2fa4e483",
   "metadata": {
    "hidden": true
   },
   "outputs": [],
   "source": [
    "Korea_border_testing = pd.concat([pd.read_csv(file) for file in glob.glob('./dataset/preprocessed_data/Korea_BT/raw/*.txt')])"
   ]
  },
  {
   "cell_type": "code",
   "execution_count": 27,
   "id": "d4d57312",
   "metadata": {
    "hidden": true
   },
   "outputs": [],
   "source": [
    "Korea_border_testing.to_csv('./dataset/preprocessed_data/Korea_BT/raw/Korea_border_testing.raw',index=False)"
   ]
  },
  {
   "cell_type": "code",
   "execution_count": 42,
   "id": "f0a09e42",
   "metadata": {
    "hidden": true
   },
   "outputs": [],
   "source": [
    "Korea_border_testing.columns = ['Korean_Type','Korean_Location','New Cases','Total Cases','Ratio','Date']"
   ]
  },
  {
   "cell_type": "code",
   "execution_count": 43,
   "id": "179a1f36",
   "metadata": {
    "hidden": true
   },
   "outputs": [],
   "source": [
    "korean_dict = dict(\n",
    "    zip(Korea_border_testing['Korean_Location'].unique(), [\n",
    "        'Total', 'China', 'Asia ex-China', 'Europe', 'America', 'Africa',\n",
    "        'Australia', 'Quarantine stage', 'Local', 'Korean National',\n",
    "        'Foreigner', 'America', 'Oceania'\n",
    "    ]))\n",
    "korean_dict.update(\n",
    "    zip(Korea_border_testing['Korean_Type'].unique(),\n",
    "        ['Total', 'Imported Country', 'Confirmation Stage', 'Nationality']))"
   ]
  },
  {
   "cell_type": "code",
   "execution_count": 44,
   "id": "b1e062c2",
   "metadata": {
    "hidden": true
   },
   "outputs": [],
   "source": [
    "Korea_border_testing['Location'] = [korean_dict[term] for term in Korea_border_testing['Korean_Location']]\n",
    "Korea_border_testing['Type'] = [korean_dict[term] for term in Korea_border_testing['Korean_Type']]\n",
    "Korea_border_testing['Date'] = pd.to_datetime(Korea_border_testing['Date'],format='%Y%m%d')"
   ]
  },
  {
   "cell_type": "code",
   "execution_count": 55,
   "id": "ca3a5c69",
   "metadata": {
    "hidden": true
   },
   "outputs": [],
   "source": [
    "Korea_border_testing_new_cases_daily = Korea_border_testing.loc[\n",
    "    (Korea_border_testing['Type'] == 'Imported Country'),\n",
    "    ['Date', 'Location', 'New Cases']]"
   ]
  },
  {
   "cell_type": "code",
   "execution_count": 56,
   "id": "dd0e605d",
   "metadata": {
    "hidden": true
   },
   "outputs": [],
   "source": [
    "Korea_border_testing_new_cases_daily.to_csv(\n",
    "    './dataset/preprocessed_data/Korea_BT/Korea_border_testing_new_cases_daily.csv',\n",
    "    index=False)"
   ]
  },
  {
   "cell_type": "code",
   "execution_count": 57,
   "id": "647daa43",
   "metadata": {
    "hidden": true
   },
   "outputs": [
    {
     "data": {
      "text/html": [
       "<div>\n",
       "<style scoped>\n",
       "    .dataframe tbody tr th:only-of-type {\n",
       "        vertical-align: middle;\n",
       "    }\n",
       "\n",
       "    .dataframe tbody tr th {\n",
       "        vertical-align: top;\n",
       "    }\n",
       "\n",
       "    .dataframe thead th {\n",
       "        text-align: right;\n",
       "    }\n",
       "</style>\n",
       "<table border=\"1\" class=\"dataframe\">\n",
       "  <thead>\n",
       "    <tr style=\"text-align: right;\">\n",
       "      <th></th>\n",
       "      <th>Date</th>\n",
       "      <th>Location</th>\n",
       "      <th>New Cases</th>\n",
       "    </tr>\n",
       "  </thead>\n",
       "  <tbody>\n",
       "    <tr>\n",
       "      <th>1</th>\n",
       "      <td>2020-04-21</td>\n",
       "      <td>China</td>\n",
       "      <td>0</td>\n",
       "    </tr>\n",
       "    <tr>\n",
       "      <th>2</th>\n",
       "      <td>2020-04-21</td>\n",
       "      <td>Asia ex-China</td>\n",
       "      <td>1</td>\n",
       "    </tr>\n",
       "    <tr>\n",
       "      <th>3</th>\n",
       "      <td>2020-04-21</td>\n",
       "      <td>Europe</td>\n",
       "      <td>1</td>\n",
       "    </tr>\n",
       "    <tr>\n",
       "      <th>4</th>\n",
       "      <td>2020-04-21</td>\n",
       "      <td>America</td>\n",
       "      <td>3</td>\n",
       "    </tr>\n",
       "    <tr>\n",
       "      <th>5</th>\n",
       "      <td>2020-04-21</td>\n",
       "      <td>Africa</td>\n",
       "      <td>0</td>\n",
       "    </tr>\n",
       "    <tr>\n",
       "      <th>...</th>\n",
       "      <td>...</td>\n",
       "      <td>...</td>\n",
       "      <td>...</td>\n",
       "    </tr>\n",
       "    <tr>\n",
       "      <th>2</th>\n",
       "      <td>2022-03-15</td>\n",
       "      <td>Asia ex-China</td>\n",
       "      <td>69</td>\n",
       "    </tr>\n",
       "    <tr>\n",
       "      <th>3</th>\n",
       "      <td>2022-03-15</td>\n",
       "      <td>Europe</td>\n",
       "      <td>13</td>\n",
       "    </tr>\n",
       "    <tr>\n",
       "      <th>4</th>\n",
       "      <td>2022-03-15</td>\n",
       "      <td>America</td>\n",
       "      <td>23</td>\n",
       "    </tr>\n",
       "    <tr>\n",
       "      <th>5</th>\n",
       "      <td>2022-03-15</td>\n",
       "      <td>Africa</td>\n",
       "      <td>3</td>\n",
       "    </tr>\n",
       "    <tr>\n",
       "      <th>6</th>\n",
       "      <td>2022-03-15</td>\n",
       "      <td>Australia</td>\n",
       "      <td>3</td>\n",
       "    </tr>\n",
       "  </tbody>\n",
       "</table>\n",
       "<p>4164 rows × 3 columns</p>\n",
       "</div>"
      ],
      "text/plain": [
       "         Date       Location  New Cases\n",
       "1  2020-04-21          China          0\n",
       "2  2020-04-21  Asia ex-China          1\n",
       "3  2020-04-21         Europe          1\n",
       "4  2020-04-21        America          3\n",
       "5  2020-04-21         Africa          0\n",
       "..        ...            ...        ...\n",
       "2  2022-03-15  Asia ex-China         69\n",
       "3  2022-03-15         Europe         13\n",
       "4  2022-03-15        America         23\n",
       "5  2022-03-15         Africa          3\n",
       "6  2022-03-15      Australia          3\n",
       "\n",
       "[4164 rows x 3 columns]"
      ]
     },
     "execution_count": 57,
     "metadata": {},
     "output_type": "execute_result"
    }
   ],
   "source": [
    "Korea_border_testing_new_cases_daily"
   ]
  },
  {
   "cell_type": "markdown",
   "id": "962fcaa2",
   "metadata": {
    "heading_collapsed": true
   },
   "source": [
    "## Thailand data"
   ]
  },
  {
   "cell_type": "code",
   "execution_count": 71,
   "id": "4be63797",
   "metadata": {
    "hidden": true
   },
   "outputs": [],
   "source": [
    "thai_data = requests.get('https://covid19.ddc.moph.go.th/api/Cases/timeline-cases-all')\n",
    "thai_data = thai_data.json()\n",
    "thai_data = pd.DataFrame(thai_data)"
   ]
  },
  {
   "cell_type": "code",
   "execution_count": 74,
   "id": "d1f98206",
   "metadata": {
    "hidden": true
   },
   "outputs": [
    {
     "data": {
      "text/plain": [
       "Index(['txn_date', 'new_case', 'total_case', 'new_case_excludeabroad',\n",
       "       'total_case_excludeabroad', 'new_death', 'total_death', 'new_recovered',\n",
       "       'total_recovered', 'update_date'],\n",
       "      dtype='object')"
      ]
     },
     "execution_count": 74,
     "metadata": {},
     "output_type": "execute_result"
    }
   ],
   "source": [
    "thai_data.columns"
   ]
  },
  {
   "cell_type": "code",
   "execution_count": 75,
   "id": "3743c86d",
   "metadata": {
    "hidden": true
   },
   "outputs": [],
   "source": [
    "thai_data['new_cases_abroad'] = thai_data['new_case'] - thai_data['new_case_excludeabroad']\n",
    "thai_data['total_cases_abroad'] = thai_data['total_case'] - thai_data['total_case_excludeabroad']"
   ]
  },
  {
   "cell_type": "code",
   "execution_count": 80,
   "id": "fead633d",
   "metadata": {
    "hidden": true
   },
   "outputs": [],
   "source": [
    "thai_data_border_testing = thai_data[['txn_date','new_cases_abroad']]\n",
    "thai_data_border_testing.columns = ['Date','Positive tests']"
   ]
  },
  {
   "cell_type": "code",
   "execution_count": 81,
   "id": "6b1000ee",
   "metadata": {
    "hidden": true
   },
   "outputs": [],
   "source": [
    "thai_data_border_testing.to_csv('./dataset/preprocessed_data/Thai_BT/thai_data_border_testing.csv',index=False)"
   ]
  },
  {
   "cell_type": "code",
   "execution_count": null,
   "id": "cc9b68ee",
   "metadata": {
    "hidden": true
   },
   "outputs": [],
   "source": []
  }
 ],
 "metadata": {
  "hide_input": false,
  "kernelspec": {
   "display_name": "Python 3 (ipykernel)",
   "language": "python",
   "name": "python3"
  },
  "language_info": {
   "codemirror_mode": {
    "name": "ipython",
    "version": 3
   },
   "file_extension": ".py",
   "mimetype": "text/x-python",
   "name": "python",
   "nbconvert_exporter": "python",
   "pygments_lexer": "ipython3",
   "version": "3.9.7"
  },
  "toc": {
   "base_numbering": 1,
   "nav_menu": {},
   "number_sections": true,
   "sideBar": true,
   "skip_h1_title": false,
   "title_cell": "Table of Contents",
   "title_sidebar": "Contents",
   "toc_cell": false,
   "toc_position": {},
   "toc_section_display": true,
   "toc_window_display": false
  },
  "varInspector": {
   "cols": {
    "lenName": 16,
    "lenType": 16,
    "lenVar": 40
   },
   "kernels_config": {
    "python": {
     "delete_cmd_postfix": "",
     "delete_cmd_prefix": "del ",
     "library": "var_list.py",
     "varRefreshCmd": "print(var_dic_list())"
    },
    "r": {
     "delete_cmd_postfix": ") ",
     "delete_cmd_prefix": "rm(",
     "library": "var_list.r",
     "varRefreshCmd": "cat(var_dic_list()) "
    }
   },
   "position": {
    "height": "144.844px",
    "left": "1550px",
    "right": "20px",
    "top": "121px",
    "width": "350px"
   },
   "types_to_exclude": [
    "module",
    "function",
    "builtin_function_or_method",
    "instance",
    "_Feature"
   ],
   "window_display": false
  }
 },
 "nbformat": 4,
 "nbformat_minor": 5
}
